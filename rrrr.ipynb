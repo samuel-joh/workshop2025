{
  "cells": [
    {
      "cell_type": "markdown",
      "metadata": {
        "id": "OykpnMW5Ptrg"
      },
      "source": [
        "<a href=\"https://colab.research.google.com/github/computational-neurology/workshop2025/blob/main/rrrr.ipynb\" target=\"_parent\"><img src=\"https://colab.research.google.com/assets/colab-badge.svg\" alt=\"Open In Colab\"/></a>"
      ]
    },
    {
      "cell_type": "markdown",
      "metadata": {
        "id": "zNq4L6XFPtrg"
      },
      "source": [
        "## Fitting\n",
        "\n",
        "### Learning goals\n",
        "- explain why model fitting is needed\n",
        "- perform a fitting procedure for a two-node problem\n",
        "- explain appropriate fitting methods for brain networks\n",
        "\n",
        "Imagine you have a dataset and you want to simulate the time series. How do you make sure that the parameters are chosen in such a way that they represent the data best? Let's try out the manual way first."
      ]
    },
    {
      "cell_type": "code",
      "execution_count": null,
      "metadata": {
        "id": "iSVsMh88Ptrg"
      },
      "outputs": [],
      "source": [
        "%%capture\n",
        "import sys\n",
        "!{sys.executable} -m pip install git+https://github.com/neurolib-dev/neurolib.git\n",
        "!{sys.executable} -m pip install numpy\n",
        "!{sys.executable} -m pip install matplotlib\n",
        "!{sys.executable} -m pip install nilearn\n",
        "\n",
        "from neurolib.models.hopf import HopfModel\n",
        "import numpy as np\n",
        "import matplotlib.pyplot as plt\n",
        "from nilearn.connectome import ConnectivityMeasure\n",
        "# @title Install dependencies and libraries"
      ]
    },
    {
      "cell_type": "markdown",
      "metadata": {
        "id": "QuZ-OE2YPtri"
      },
      "source": [
        "<b>Exercise </b><p>\n",
        "\n",
        "### Fitting time series and parameter recovery\n",
        "\n",
        "We try to fit the functional connectivity matrix of the statistical data with our models FC matrix. First test for paramters:\n",
        "\n",
        "    G: 0.5\n",
        "    w:  0.7 * np.pi\n",
        "    Sigma_ou: 0.1\n",
        "    Cmat: np.array([[1, 0.02], [0.02, 1]])\n",
        "    Dmat: 0 for each connection\n",
        "    Duration: 50ms\n",
        "\n"
      ]
    },
    {
      "cell_type": "code",
      "execution_count": null,
      "metadata": {
        "id": "W5vyXH3IPtri"
      },
      "outputs": [],
      "source": [
        "# solution to exercise here:"
      ]
    },
    {
      "cell_type": "markdown",
      "metadata": {
        "id": "KwgGYiVTPtri"
      },
      "source": [
        "## Further reading material\n",
        "### Graph theory\n",
        "Olaf Sporns. Networks of the Brain. MIT Press, 2010\n",
        "Marcus Kaiser. A tutorial on connectome analysis, 2011. https://www.dynamic-connectome.org/pubs/Kaiser2011Neuroimage.pdf\n",
        "\n",
        "### Model fitting\n",
        "A tutorial on model fitting. https://training.incf.org/lesson/model-fitting-i-intro-lecture"
      ]
    }
  ],
  "metadata": {
    "kernelspec": {
      "display_name": "Python 3",
      "language": "python",
      "name": "python3"
    },
    "language_info": {
      "codemirror_mode": {
        "name": "ipython",
        "version": 3
      },
      "file_extension": ".py",
      "mimetype": "text/x-python",
      "name": "python",
      "nbconvert_exporter": "python",
      "pygments_lexer": "ipython3",
      "version": "3.10.11"
    },
    "colab": {
      "provenance": []
    }
  },
  "nbformat": 4,
  "nbformat_minor": 0
}
