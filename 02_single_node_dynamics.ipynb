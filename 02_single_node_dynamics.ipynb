{
  "cells": [
    {
      "cell_type": "markdown",
      "metadata": {
        "id": "view-in-github",
        "colab_type": "text"
      },
      "source": [
        "<a href=\"https://colab.research.google.com/github/samuel-joh/Computational-Neurology/blob/main/02_single_node_dynamics.ipynb\" target=\"_parent\"><img src=\"https://colab.research.google.com/assets/colab-badge.svg\" alt=\"Open In Colab\"/></a>"
      ]
    },
    {
      "cell_type": "markdown",
      "id": "3ae2e81b",
      "metadata": {
        "id": "3ae2e81b"
      },
      "source": [
        "<a href=\"https://colab.research.google.com/github/computational-neurology/workshop2025/blob/main/02_single_node_dynamics.ipynb\" target=\"_parent\"><img src=\"https://colab.research.google.com/assets/colab-badge.svg\" alt=\"Open In Colab\"/></a>"
      ]
    },
    {
      "cell_type": "markdown",
      "id": "F0nERzRYlivk",
      "metadata": {
        "id": "F0nERzRYlivk"
      },
      "source": [
        "# Presentations / questions from previous lecture\n",
        "*30 mins*"
      ]
    },
    {
      "cell_type": "code",
      "execution_count": 1,
      "id": "d96728a7",
      "metadata": {
        "cellView": "form",
        "id": "d96728a7"
      },
      "outputs": [],
      "source": [
        "# @title Run this to install dependencies\n",
        "%%capture\n",
        "import sys\n",
        "! pip install ipywidgets"
      ]
    },
    {
      "cell_type": "markdown",
      "id": "UR-UQIXgzxo1",
      "metadata": {
        "id": "UR-UQIXgzxo1"
      },
      "source": [
        "## Building a model of the brain's activity\n",
        "\n",
        "*10 mins*\n"
      ]
    },
    {
      "cell_type": "code",
      "execution_count": null,
      "id": "7c46c535",
      "metadata": {
        "id": "7c46c535"
      },
      "outputs": [],
      "source": [
        "from IPython.display import Image, display\n",
        "\n",
        "\n",
        "emp_scale = \"https://media.springernature.com/full/springer-static/image/art%3A10.1038%2Fnn.4502/MediaObjects/41593_2017_Article_BFnn4502_Fig1_HTML.jpg?as=webp\"\n",
        "display(Image(url=emp_scale, width=800))\n",
        "print(\"From: Bassett, D., Sporns, O. Network neuroscience. Nat Neurosci 20, 353–364 (2017). https://doi.org/10.1038/nn.4502\")\n",
        "\n",
        "sim_scale = \"https://media.springernature.com/full/springer-static/image/art%3A10.1007%2Fs10548-021-00828-2/MediaObjects/10548_2021_828_Fig2_HTML.png?as=webp\"\n",
        "display(Image(url=sim_scale, width=800))\n",
        "print(\"From: Glomb K, Cabral J, Cattani A, Mazzoni A, Raj A, Franceschiello B. Computational Models in Electroencephalography. Brain Topogr. 2022 Jan;35(1):142-161. doi: 10.1007/s10548-021-00828-2. Epub 2021 Mar 29. PMID: 33779888; PMCID: PMC8813814.\")\n",
        "\n",
        "wbm = \"https://media.springernature.com/full/springer-static/image/chp%3A10.1007%2F978-3-030-89439-9_13/MediaObjects/483471_1_En_13_Fig1_HTML.png?as=webp\"\n",
        "display(Image(url=wbm, width=800))\n",
        "\n",
        "print(\"From: Griffiths, J.D., Bastiaens, S.P., Kaboodvand, N. (2022). Whole-Brain Modelling: Past, Present, and Future. In: Giugliano, M., Negrello, M., Linaro, D. (eds) Computational Modelling of the Brain. Advances in Experimental Medicine and Biology(), vol 1359. Springer, Cham. https://doi.org/10.1007/978-3-030-89439-9_13\")"
      ]
    },
    {
      "cell_type": "code",
      "execution_count": null,
      "id": "h3LgcwfX2bP3",
      "metadata": {
        "cellView": "form",
        "id": "h3LgcwfX2bP3"
      },
      "outputs": [],
      "source": [
        "# @title Imports, don't forget to run this cell\n",
        "import numpy as np\n",
        "import matplotlib.pyplot as plt\n",
        "from scipy.integrate import solve_ivp  # numerical integration solver"
      ]
    },
    {
      "cell_type": "code",
      "execution_count": null,
      "id": "8I6Wx6fI2fi6",
      "metadata": {
        "cellView": "form",
        "id": "8I6Wx6fI2fi6"
      },
      "outputs": [],
      "source": [
        "# @title Figure settings, don't forget to run this cell\n",
        "import logging\n",
        "logging.getLogger('matplotlib.font_manager').disabled = True\n",
        "\n",
        "import ipywidgets as widgets  # interactive display\n",
        "%config InlineBackend.figure_format = 'retina'\n",
        "plt.style.use(\"https://raw.githubusercontent.com/NeuromatchAcademy/course-content/main/nma.mplstyle\")"
      ]
    },
    {
      "cell_type": "code",
      "execution_count": null,
      "id": "BLQ93ev02kCd",
      "metadata": {
        "cellView": "form",
        "id": "BLQ93ev02kCd"
      },
      "outputs": [],
      "source": [
        "# @title Plotting Functions, don't forget to run this cell\n",
        "def plot_trajectory(system, params, initial_condition, dt=0.1, T=6,\n",
        "                    figtitle=None):\n",
        "\n",
        "  \"\"\"\n",
        "  Shows the solution of a linear system with two variables in 3 plots.\n",
        "  The first plot shows x1 over time. The second plot shows x2 over time.\n",
        "  The third plot shows x1 and x2 in a phase portrait.\n",
        "\n",
        "  Args:\n",
        "    system (function): a function f(x) that computes a derivative from\n",
        "                        inputs (t, [x1, x2], *params)\n",
        "    params (list or tuple): list of parameters for function \"system\"\n",
        "    initial_condition (list or array): initial condition x0\n",
        "    dt (float): time step of simulation\n",
        "    T (float): end time of simulation\n",
        "    figtitlte (string): title for the figure\n",
        "\n",
        "  Returns:\n",
        "    nothing, but it shows a figure\n",
        "  \"\"\"\n",
        "\n",
        "  # time points for which we want to evaluate solutions\n",
        "  t = np.arange(0, T, dt)\n",
        "\n",
        "  # Integrate\n",
        "  # use built-in ode solver\n",
        "  solution = solve_ivp(system,\n",
        "                    t_span=(0, T),\n",
        "                    y0=initial_condition, t_eval=t,\n",
        "                    args=(params),\n",
        "                    dense_output=True)\n",
        "  x = solution.y\n",
        "\n",
        "  # make a color map to visualize time\n",
        "  timecolors = np.array([(1 , 0 , 0, i)  for i in t / t[-1]])\n",
        "\n",
        "  # make a large figure\n",
        "  fig, (ah1, ah2, ah3) = plt.subplots(1, 3)\n",
        "  fig.set_size_inches(10, 3)\n",
        "\n",
        "  # plot x1 as a function of time\n",
        "  ah1.scatter(t, x[0,], color=timecolors)\n",
        "  ah1.set_xlabel('time')\n",
        "  ah1.set_ylabel('x1', labelpad=-5)\n",
        "\n",
        "  # plot x2 as a function of time\n",
        "  ah2.scatter(t, x[1], color=timecolors)\n",
        "  ah2.set_xlabel('time')\n",
        "  ah2.set_ylabel('x2', labelpad=-5)\n",
        "\n",
        "  # plot x1 and x2 in a phase portrait\n",
        "  ah3.scatter(x[0,], x[1,], color=timecolors)\n",
        "  ah3.set_xlabel('x1')\n",
        "  ah3.set_ylabel('x2', labelpad=-5)\n",
        "  #include initial condition is a blue cross\n",
        "  ah3.plot(x[0,0], x[1,0], 'bx')\n",
        "\n",
        "  # adjust spacing between subplots\n",
        "  plt.subplots_adjust(wspace=0.5)\n",
        "\n",
        "  # add figure title\n",
        "  if figtitle is not None:\n",
        "    fig.suptitle(figtitle, size=16)\n",
        "  plt.show()\n",
        "\n",
        "\n",
        "def plot_streamplot(A, ax, figtitle=None, show=True):\n",
        "  \"\"\"\n",
        "  Show a stream plot for a linear ordinary differential equation with\n",
        "  state vector x=[x1,x2] in axis ax.\n",
        "\n",
        "  Args:\n",
        "    A (numpy array): 2x2 matrix specifying the dynamical system\n",
        "    ax (matplotlib.axes): axis to plot\n",
        "    figtitle (string): title for the figure\n",
        "    show (boolean): enable plt.show()\n",
        "\n",
        "  Returns:\n",
        "    nothing, but shows a figure\n",
        "  \"\"\"\n",
        "\n",
        "  # sample 20 x 20 grid uniformly to get x1 and x2\n",
        "  grid = np.arange(-20, 21, 1)\n",
        "  x1, x2 = np.meshgrid(grid, grid)\n",
        "\n",
        "  # calculate x1dot and x2dot at each grid point\n",
        "  x1dot = A[0,0] * x1 + A[0,1] * x2\n",
        "  x2dot = A[1,0] * x1 + A[1,1] * x2\n",
        "\n",
        "  # make a colormap\n",
        "  magnitude = np.sqrt(x1dot ** 2 + x2dot ** 2)\n",
        "  color = 2 * np.log1p(magnitude) #Avoid taking log of zero\n",
        "\n",
        "  # plot\n",
        "  plt.sca(ax)\n",
        "  plt.streamplot(x1, x2, x1dot, x2dot, color=color,\n",
        "                 linewidth=1, cmap=plt.cm.cividis,\n",
        "                 density=2, arrowstyle='->', arrowsize=1.5)\n",
        "  plt.xlabel(r'$x1$')\n",
        "  plt.ylabel(r'$x2$')\n",
        "\n",
        "  # figure title\n",
        "  if figtitle is not None:\n",
        "    plt.title(figtitle, size=16)\n",
        "\n",
        "  # include eigenvectors\n",
        "  if True:\n",
        "    # get eigenvalues and eigenvectors of A\n",
        "    lam, v = np.linalg.eig(A)\n",
        "\n",
        "    # get eigenvectors of A\n",
        "    eigenvector1 = v[:,0].real\n",
        "    eigenvector2 = v[:,1].real\n",
        "\n",
        "    # plot eigenvectors\n",
        "    plt.arrow(0, 0, 20*eigenvector1[0], 20*eigenvector1[1],\n",
        "              width=0.5, color='r', head_width=2,\n",
        "              length_includes_head=True)\n",
        "    plt.arrow(0, 0, 20*eigenvector2[0], 20*eigenvector2[1],\n",
        "              width=0.5, color='b', head_width=2,\n",
        "              length_includes_head=True)\n",
        "  if show:\n",
        "    plt.show()\n",
        "\n",
        "\n",
        "def plot_specific_example_stream_plots(A_options):\n",
        "  \"\"\"\n",
        "  Show a stream plot for each A in A_options\n",
        "\n",
        "  Args:\n",
        "    A (list): a list of numpy arrays (each element is A)\n",
        "\n",
        "  Returns:\n",
        "    nothing, but shows a figure\n",
        "  \"\"\"\n",
        "  # get stream plots for the four different systems\n",
        "  plt.figure(figsize=(10, 10))\n",
        "\n",
        "  for i, A in enumerate(A_options):\n",
        "\n",
        "    ax = plt.subplot(2, 2, 1+i)\n",
        "    # get eigenvalues and eigenvectors\n",
        "    lam, v = np.linalg.eig(A)\n",
        "\n",
        "    # plot eigenvalues as title\n",
        "    # (two spaces looks better than one)\n",
        "    eigstr = \",  \".join([f\"{x:.2f}\" for x in lam])\n",
        "    figtitle =f\"A with eigenvalues\\n\"+ '[' + eigstr + ']'\n",
        "    plot_streamplot(A, ax, figtitle=figtitle, show=False)\n",
        "\n",
        "    # Remove y_labels on righthand plots\n",
        "    if i % 2:\n",
        "      ax.set_ylabel(None)\n",
        "    if i < 2:\n",
        "      ax.set_xlabel(None)\n",
        "\n",
        "    plt.subplots_adjust(wspace=0.3, hspace=0.3)\n",
        "  plt.show()"
      ]
    },
    {
      "cell_type": "markdown",
      "id": "zRrPU31G_PAI",
      "metadata": {
        "id": "zRrPU31G_PAI"
      },
      "source": [
        "<div class=\"alert alert-block alert-success\">\n",
        "<b>Exercise 1a </b><p>\n",
        "The following cell is a recap of relevant equations. Try to complete the following function integrate_exponential() to perform the forward Euler Integration scheme. Substitute the [...] with your code.\n",
        "\n",
        "*Hint: You should translate to code the equations below*\n",
        "\n",
        "Try to solve it on your own for around 10 minutes. Then, if you are stuck, you can copy the code for the function integrate_exponential() from the next hidden cell."
      ]
    },
    {
      "cell_type": "markdown",
      "id": "ff4713ec",
      "metadata": {
        "id": "ff4713ec"
      },
      "source": [
        "Here we will implement our own forward Euler integration scheme allowing us to solve a differential equation numerically. Recap: differential equations express the **rate of change** of the state variable $x$. One typically describes this rate of change using the derivative of $x$ with respect to time ($dx/dt$, which is the same as saying $\\dot{x}$) on the left hand side of the differential equation.\n",
        "\n",
        "In a simple linear dynamical system:\n",
        "\n",
        "$$\\dot{x} = a x$$\n",
        "\n",
        "where $a$ is a scalar.\n",
        "\n",
        "Solutions the previous equations are:\n",
        "\n",
        "\\begin{equation}\n",
        "x(t) = x_0 e^{(a t)}\n",
        "\\end{equation}\n",
        "\n",
        "where $x_0$ is the **initial condition** of the equation -- that is, the value of $x$ at time $0$.\n",
        "</details>\n",
        "\n",
        "We can simulate an ordinary differential equation by modeling time as a discrete list of time steps $t_0, t_1, t_2, \\dots$, such that $t_{i+1}=t_i+dt$. We can get the small change $dx$ over a small duration $dt$ of time from the definition of the differential:\n",
        "\n",
        "$$\n",
        "\\begin{align}\n",
        "\\dot x &= \\frac{dx}{dt} \\\\\n",
        "dx &= \\dot x\\, dt\n",
        "\\end{align}\n",
        "$$\n",
        "\n",
        "So, at each time step $t_i$, we compute a value of $x$, $x(t_i)$, as the sum of the value of $x$ at the previous time step, $x(t_{i-1})$ and a small change $dx=\\dot x\\,dt$:\n",
        "\n",
        "\\begin{equation}\n",
        "x(t_i)=x(t_{i-1})+\\dot x(t_{i-1}) dt\n",
        "\\end{equation}\n"
      ]
    },
    {
      "cell_type": "code",
      "execution_count": null,
      "id": "00de7512",
      "metadata": {
        "id": "00de7512"
      },
      "outputs": [],
      "source": [
        "def integrate_exponential(a, x0, dt, T):\n",
        "  \"\"\"Compute solution of the differential equation xdot=a*x with\n",
        "  initial condition x0 for a duration T. Use time step dt for numerical\n",
        "  solution.\n",
        "\n",
        "  Args:\n",
        "    a (scalar): parameter of xdot (xdot=a*x)\n",
        "    x0 (scalar): initial condition (x at time 0)\n",
        "    dt (scalar): timestep of the simulation\n",
        "    T (scalar): total duration of the simulation\n",
        "\n",
        "  Returns:\n",
        "    ndarray, ndarray: `x` for all simulation steps and the time `t` at each step\n",
        "  \"\"\"\n",
        "\n",
        "  # Initialize variables\n",
        "  t = [...] # create an array of length T that will hold all your dt\n",
        "  x = np.zeros_like(t, dtype=complex)\n",
        "  x[0] = [...] # What is your initial condition?\n",
        "\n",
        "  # Loop through the array (remember that you need integers to slice the array, so you can't use the array t directly...)\n",
        "  # What else can you use to get an integer corresponding to each position of the array t? r...e\n",
        "  for [...] in [...]:\n",
        "\n",
        "    xdot = [...] # implement the equation above\n",
        "    x[...] = [...] # update x using the value of x at the previous timepoint and the small change you calculated above (remember the time interval in which you calculated it!)\n",
        "\n",
        "  return x, t"
      ]
    },
    {
      "cell_type": "code",
      "execution_count": null,
      "id": "762fc0bb",
      "metadata": {
        "id": "762fc0bb"
      },
      "outputs": [],
      "source": [
        "# @title Copy the function if you get stuck\n",
        "\n",
        "# Have you tried for 10 minutes on your own?\n",
        "# Have you tried for 10 minutes on your own?\n",
        "# Have you tried for 10 minutes on your own?\n",
        "# Have you tried for 10 minutes on your own?\n",
        "# Have you tried for 10 minutes on your own?\n",
        "# Have you tried for 10 minutes on your own?\n",
        "# Have you tried for 10 minutes on your own?\n",
        "# Have you tried for 10 minutes on your own?\n",
        "# Have you tried for 10 minutes on your own?\n",
        "# Are you sure?\n",
        "# Are you sure?\n",
        "# Are you sure?\n",
        "# Are you sure?\n",
        "# Are you sure?\n",
        "# Are you sure?\n",
        "# Are you sure?\n",
        "# Are you sure?\n",
        "# Ok you can copy the function!\n",
        "\n",
        "def integrate_exponential(a, x0, dt, T):\n",
        "  \"\"\"Compute solution of the differential equation xdot=a*x with\n",
        "  initial condition x0 for a duration T. Use time step dt for numerical\n",
        "  solution.\n",
        "\n",
        "  Args:\n",
        "    a (scalar): parameter of xdot (xdot=a*x)\n",
        "    x0 (scalar): initial condition (x at time 0)\n",
        "    dt (scalar): timestep of the simulation\n",
        "    T (scalar): total duration of the simulation\n",
        "\n",
        "  Returns:\n",
        "    ndarray, ndarray: `x` for all simulation steps and the time `t` at each step\n",
        "  \"\"\"\n",
        "\n",
        "  # Initialize variables\n",
        "  t = np.arange(0, T, dt)\n",
        "  x = np.zeros_like(t, dtype=complex)\n",
        "  x[0] = x0 # This is x at time t_0\n",
        "\n",
        "  # Step through system and integrate in time\n",
        "\n",
        "  for k in range(1, len(t)):\n",
        "    xdot = x[k-1] * a\n",
        "    x[k] = xdot * dt + x[k-1]\n",
        "  return x, t"
      ]
    },
    {
      "cell_type": "markdown",
      "id": "8a40d714",
      "metadata": {
        "id": "8a40d714"
      },
      "source": []
    },
    {
      "cell_type": "markdown",
      "id": "5cde71d4",
      "metadata": {
        "id": "5cde71d4"
      },
      "source": [
        "<div class=\"alert alert-block alert-success\">\n",
        "<b>Exercise 1b </b><p>\n",
        "\n",
        "Try to plot the results and see how x changes over time. Try various initial conditions and a. How does the activity evolve in relation to different a or x0? Discuss in your group what you have found (5 mins)"
      ]
    },
    {
      "cell_type": "code",
      "execution_count": null,
      "id": "pdOjMphB3ASK",
      "metadata": {
        "id": "pdOjMphB3ASK"
      },
      "outputs": [],
      "source": [
        "# Choose parameters\n",
        "a = -0.1    # parameter in f(x)\n",
        "T = 10      # total Time duration\n",
        "dt = 0.001  # timestep of our simulation\n",
        "x0 = 100.     # initial condition of x at time 0\n",
        "\n",
        "# Use Euler's method\n",
        "x, t = integrate_exponential(a, x0, dt, T)\n",
        "\n",
        "# Visualize\n",
        "plt.figure(figsize = (5,5))\n",
        "plt.plot(t, x.real)\n",
        "plt.xlabel('Time (s)')\n",
        "plt.ylabel('x')\n",
        "plt.show()"
      ]
    },
    {
      "cell_type": "markdown",
      "id": "awY_-sKiAKXZ",
      "metadata": {
        "id": "awY_-sKiAKXZ"
      },
      "source": [
        "<div class=\"alert alert-block alert-success\">\n",
        "<b>Exercise 1c </b><p>\n",
        "\n",
        "1.  The $dt$ is the step size of the forward Euler integration. What happens to the numerical solution when you increase $dt$? What happens if you lower it? First try to think about it and write down your answer.\n",
        "2. Go to the following cell and run it to activate the widget allowing you to test your hypothesis. Does the change in $dt$ from the widget reflect your hypothesis? Should you change your hypothesis in light of new evidence from the widget? Discuss with your group.\n",
        "\n",
        "*5 minutes*"
      ]
    },
    {
      "cell_type": "markdown",
      "id": "bhFusoHeKUn4",
      "metadata": {
        "id": "bhFusoHeKUn4"
      },
      "source": [
        "Write down your answer:\n",
        "...."
      ]
    },
    {
      "cell_type": "code",
      "execution_count": null,
      "id": "7Nk2t25N3J2g",
      "metadata": {
        "cellView": "form",
        "id": "7Nk2t25N3J2g"
      },
      "outputs": [],
      "source": [
        "# @title Make sure you execute this cell to enable the widget!\n",
        "def plot_slope(dt):\n",
        "  \"\"\"\n",
        "    Args:\n",
        "      dt  : time-step\n",
        "    Returns:\n",
        "      A figure of an exponential, the slope of the exponential and the derivative exponential\n",
        "  \"\"\"\n",
        "\n",
        "  t = np.arange(0, 5+0.1/2, 0.1)\n",
        "\n",
        "\n",
        "  fig = plt.figure(figsize=(6, 4))\n",
        "  # Exponential\n",
        "  p = np.exp(0.3*t)\n",
        "  plt.plot(t, p, label='x')\n",
        "  # slope\n",
        "  plt.plot([1, 1+dt], [np.exp(0.3*1), np.exp(0.3*(1+dt))],':og',label=r'$\\frac{x(1+\\Delta t)-x(1)}{\\Delta t}$')\n",
        "  # derivative\n",
        "  plt.plot([1, 1+dt], [np.exp(0.3*1), np.exp(0.3*(1))+dt*0.3*np.exp(0.3*(1))],'-k',label=r'$\\frac{dx}{dt}$')\n",
        "  plt.legend()\n",
        "  plt.plot(1+dt, np.exp(0.3*(1+dt)), 'og')\n",
        "  plt.ylabel('x')\n",
        "  plt.xlabel('t')\n",
        "  plt.show()\n",
        "\n",
        "# Imports\n",
        "import numpy as np\n",
        "import matplotlib.pyplot as plt\n",
        "import logging\n",
        "logging.getLogger('matplotlib.font_manager').disabled = True\n",
        "import IPython.display as ipd\n",
        "from matplotlib import gridspec\n",
        "import ipywidgets as widgets  # interactive display\n",
        "from ipywidgets import Label\n",
        "%config InlineBackend.figure_format = 'retina'\n",
        "\n",
        "my_layout = widgets.Layout()\n",
        "\n",
        "feedback_prefix = \"W0D4_T3\"\n",
        "\n",
        "my_layout.width = '450px'\n",
        "@widgets.interact(\n",
        "\n",
        "    dt=widgets.FloatSlider(1, min=0., max=4., step=.1,\n",
        "                                layout=my_layout)\n",
        "\n",
        ")\n",
        "\n",
        "def Pop_widget(dt):\n",
        "  plot_slope(dt)\n",
        "  plt.show()"
      ]
    },
    {
      "cell_type": "markdown",
      "id": "K3WxhGB7AQLX",
      "metadata": {
        "id": "K3WxhGB7AQLX"
      },
      "source": [
        "<p>\n",
        " -End of exercise-\n",
        "    </div>\n"
      ]
    },
    {
      "cell_type": "markdown",
      "id": "fh0ruNpuAjng",
      "metadata": {
        "id": "fh0ruNpuAjng"
      },
      "source": [
        "<div class=\"alert alert-block alert-success\">\n",
        "<b> Bonus Exercise </b><p>\n",
        "\n",
        "In the following exercise, you can change the real part and imaginary part of $a$ (so a = real + imaginary i)\n",
        "\n",
        "1. What values of $a$ produce dynamics that both ***oscillate*** and ***grow***?\n",
        "2. What value of $a$ is needed to produce a stable oscillation of 0.5 Hertz (cycles/time units)?\n"
      ]
    },
    {
      "cell_type": "code",
      "execution_count": null,
      "id": "Fs0kyFzSAuP0",
      "metadata": {
        "cellView": "form",
        "id": "Fs0kyFzSAuP0"
      },
      "outputs": [],
      "source": [
        "# @title Make sure you execute this cell to enable the widget!\n",
        "\n",
        "# parameters\n",
        "T = 5  # total Time duration\n",
        "dt = 0.0001  # timestep of our simulation\n",
        "x0 = 1.  # initial condition of x at time 0\n",
        "\n",
        "@widgets.interact\n",
        "def plot_euler_integration(real=(-2, 2, .2), imaginary=(-4, 7, .1)):\n",
        "\n",
        "  a = complex(real, imaginary)\n",
        "  x, t = integrate_exponential(a, x0, dt, T)\n",
        "  plt.figure(figsize=(5,5))\n",
        "  plt.plot(t, x.real)  # integrate exponential returns complex\n",
        "  plt.grid(True)\n",
        "  plt.xlabel('Time (s)')\n",
        "  plt.ylabel('x')\n",
        "  plt.show()"
      ]
    },
    {
      "cell_type": "code",
      "execution_count": null,
      "id": "eNhQxR-tBd4m",
      "metadata": {
        "cellView": "form",
        "id": "eNhQxR-tBd4m"
      },
      "outputs": [],
      "source": [
        "# @title Solution, click to check if your idea is correct!\n",
        "# 1) To make the system both oscillate and grow, real has to be positive,\n",
        "# and imaginary has to be not zero.\n",
        "\n",
        "# 2) Stable oscillation of 0.5 Hz (half a cycle per unit time, or one cycle per two\n",
        "# unit time) is achieved with real = 0 and imaginary = +/- pi\n",
        "# (approximately 3.1 or -3.1)."
      ]
    },
    {
      "cell_type": "markdown",
      "id": "NjPMRjQdsf0t",
      "metadata": {
        "id": "NjPMRjQdsf0t"
      },
      "source": [
        "<p>\n",
        " -End of bonus exercise-\n",
        "</div>"
      ]
    },
    {
      "cell_type": "markdown",
      "id": "3e678e72",
      "metadata": {
        "id": "3e678e72"
      },
      "source": [
        "# Pause: 15 mins"
      ]
    },
    {
      "cell_type": "markdown",
      "id": "216db69e",
      "metadata": {
        "id": "216db69e"
      },
      "source": [
        "# Discussion of previous exercise: 10 minutes"
      ]
    },
    {
      "cell_type": "markdown",
      "id": "137a5ffd",
      "metadata": {
        "id": "137a5ffd"
      },
      "source": [
        "# Part 2: Node-level dynamics"
      ]
    },
    {
      "cell_type": "markdown",
      "id": "MAaLbnYlvS05",
      "metadata": {
        "id": "MAaLbnYlvS05"
      },
      "source": [
        "Now that we have a general idea of what a dynamical system is and how numerical solutions work, we will start to build our own model of the brain. Today we simulate the activity of a single brain region using a Python package called [Neurolib](https://github.com/neurolib-dev/neurolib) allowing for easy simulations of brain functional activity.\n",
        "\n",
        "Neurolib is very fast and easy to use, but there is also other software allowing you to do the same kinds of simulations, like [The Virtual Brain](https://thevirtualbrain.org/tvb/zwei) (TVB). With TVB you also get a graphical user interface if you are yet not too keen on programming, but want to explore whole-brain models while improving your coding skills. The only drawback from TVB is that it is currently pretty slow.\n",
        "\n",
        "The same concepts you will learn today, though, also apply to TVB or any other whole-brain modeling packages."
      ]
    },
    {
      "cell_type": "markdown",
      "id": "4571ba20",
      "metadata": {
        "id": "4571ba20"
      },
      "source": [
        "# Kuramoto Model\n",
        "*20 minutes*"
      ]
    },
    {
      "cell_type": "code",
      "execution_count": null,
      "id": "f0ede8fb",
      "metadata": {
        "id": "f0ede8fb"
      },
      "outputs": [],
      "source": [
        "%%capture\n",
        "# @title run this cell so neurolib will be installed while you read the text\n",
        "!{sys.executable} -m pip install git+https://github.com/neurolib-dev/neurolib.git"
      ]
    },
    {
      "cell_type": "markdown",
      "id": "29e8b343",
      "metadata": {
        "id": "29e8b343"
      },
      "source": [
        "![bio_vs_pheno](https://www.mdpi.com/brainsci/brainsci-13-01133/article_deploy/html/images/brainsci-13-01133-g002-550.jpg)"
      ]
    },
    {
      "cell_type": "markdown",
      "id": "tJFdZ3s4Xm04",
      "metadata": {
        "id": "tJFdZ3s4Xm04"
      },
      "source": [
        "We will start to simulate a single brain region using a simple phase oscillator model known as the Kuramoto model, telling us how the phase of the oscillator evolves over time. We will consider:\n",
        "\n",
        "$$ \\frac{d \\theta_i}{dt} = \\omega_i + \\zeta_i$$\n",
        "\n",
        "Here $\\theta_i$ is the phase of oscillator $i$, $\\omega_i$ is the natural frequency of oscillator $i$, $\\zeta_i$ is the noise term.\n",
        "\n",
        "We will use Neurolib to perform our simulations."
      ]
    },
    {
      "cell_type": "code",
      "execution_count": null,
      "id": "st460-YacQfP",
      "metadata": {
        "id": "st460-YacQfP"
      },
      "outputs": [],
      "source": [
        "import numpy as np\n",
        "import matplotlib.pyplot as plt\n",
        "# Some useful functions are provided here\n",
        "import neurolib.utils.functions as func\n",
        "# Let's import the Kuramoto model\n",
        "from neurolib.models.kuramoto import KuramotoModel\n",
        "\n",
        "# Initialize the Kuramoto model for a single node\n",
        "model = KuramotoModel()\n",
        "# Set the duration of your simulation\n",
        "model.params['duration'] = 100\n",
        "# Set the intrinsic frequency\n",
        "model.params['omega'] = np.array([.5 * np.pi])\n",
        "# Set the noise\n",
        "model.params['sigma_ou'] = 0\n",
        "# Let's run the model!\n",
        "model.run()"
      ]
    },
    {
      "cell_type": "markdown",
      "id": "23cddc89",
      "metadata": {
        "id": "23cddc89"
      },
      "source": [
        "### Perform exercise 2a-c\n",
        "If you have time you can also move to the bonus exercise on coupled oscillators. Don't worry if you don't have time, it will also be part of the preparatory material for next week."
      ]
    },
    {
      "cell_type": "markdown",
      "id": "f0761451",
      "metadata": {
        "id": "f0761451"
      },
      "source": [
        "<div class=\"alert alert-block alert-success\">\n",
        "<b> Exercise 2a </b><p>\n",
        "\n",
        "What are the model outputs? What do they mean? Hint: model.outputs is a dictionary...\n",
        "<p>"
      ]
    },
    {
      "cell_type": "code",
      "execution_count": null,
      "id": "2433423a",
      "metadata": {
        "id": "2433423a"
      },
      "outputs": [],
      "source": [
        "print(...)"
      ]
    },
    {
      "cell_type": "code",
      "execution_count": null,
      "id": "1cafd654",
      "metadata": {
        "id": "1cafd654"
      },
      "outputs": [],
      "source": [
        "#@ title Click to show the answer:\n",
        "# The model outputs a numpy array containing the times of our simulation and the corresponding phases."
      ]
    },
    {
      "cell_type": "markdown",
      "id": "53ff1726",
      "metadata": {
        "id": "53ff1726"
      },
      "source": [
        "<div class=\"alert alert-block alert-success\">\n",
        "<b> Exercise 2b </b><p>\n",
        "\n",
        "Print the evolution of the oscillator's phase over time. Your code goes into [...]\n",
        "<p>"
      ]
    },
    {
      "cell_type": "code",
      "execution_count": null,
      "id": "9URR19D8kbsI",
      "metadata": {
        "id": "9URR19D8kbsI"
      },
      "outputs": [],
      "source": [
        "# Get the theta and cap it to only 2 pi ()\n",
        "theta = model['theta'].T\n",
        "theta_capped = np.mod(theta, 2*np.pi) # cap theta to [0, 2*pi]\n",
        "# Plot the phases over time\n",
        "plt.figure(figsize=(5,5))\n",
        "plt.plot([...], [...])\n",
        "plt.xlabel(\"Time\")\n",
        "plt.ylabel(\"Theta\")\n",
        "plt.yticks(np.arange(0, 2*np.pi+0.1, np.pi/2), [ r\"$0$\", r\"$\\pi/2$\", r\"$\\pi$\", r\"$3/4\\pi$\", r\"$2\\pi$\",])# modify y-axis ticks to be in multiples of pi\n",
        "plt.show()"
      ]
    },
    {
      "cell_type": "markdown",
      "id": "e5WsPosCmz6X",
      "metadata": {
        "id": "e5WsPosCmz6X"
      },
      "source": [
        "<div class=\"alert alert-block alert-success\">\n",
        "<b> Exercise 2c </b><p>\n",
        "\n",
        "Run the following cell to display the outputs of the Kuramoto model for a single node.\n",
        "Write down your answer to the following questions and then check for yourself:\n",
        "1. What happens if you increase the frequency of the oscillator?\n",
        "2. What happens if you decrease it?\n",
        "3. What happens if you increase the noise?\n",
        "\n",
        "Your answers:\n",
        "1. ...\n",
        "2. ...\n",
        "3. ...\n",
        "\n",
        "<p>"
      ]
    },
    {
      "cell_type": "code",
      "execution_count": null,
      "id": "JUqMnuK5lV8-",
      "metadata": {
        "cellView": "form",
        "id": "JUqMnuK5lV8-"
      },
      "outputs": [],
      "source": [
        "# @title Run this cell to enable the widget\n",
        "from ipywidgets import interact, FloatSlider\n",
        "# Function to run the model and plot the results\n",
        "def run_kuramoto_model(frequency=0.5*np.pi, noise=0):\n",
        "    model = KuramotoModel()\n",
        "    model.params['duration'] = 100\n",
        "    model.params['omega'] = np.array([frequency])\n",
        "    model.params['sigma_ou'] = noise\n",
        "    model.run()\n",
        "    plt.plot(model.outputs['t'], model.outputs['theta'].T)\n",
        "    plt.title('Kuramoto Model Output')\n",
        "    plt.xlabel('Time')\n",
        "    plt.ylabel('Theta')\n",
        "    plt.show()\n",
        "\n",
        "# Create interactive widgets for frequency and noise\n",
        "frequency_slider = FloatSlider(min=0, max=np.pi, step=0.1, value=0.5*np.pi, description='Frequency')\n",
        "noise_slider = FloatSlider(min=0, max=2, step=0.1, value=0, description='Noise')\n",
        "\n",
        "# Use the interact function to update the model based on slider values\n",
        "interact(run_kuramoto_model, frequency=frequency_slider, noise=noise_slider)"
      ]
    },
    {
      "cell_type": "markdown",
      "id": "2ccf6bab",
      "metadata": {
        "id": "2ccf6bab"
      },
      "source": [
        "## Bonus: Coupling oscillators together"
      ]
    },
    {
      "cell_type": "markdown",
      "id": "88018781",
      "metadata": {
        "id": "88018781"
      },
      "source": [
        "The Kuramoto model for coupled oscillators is defined by the following differential equation:\n",
        "$$ \\frac{d \\theta_i}{dt} = \\omega_i + \\zeta_i + \\frac{K}{N} \\sum_{j=1}^N A_{ij} sin(\\theta_j(t - \\tau_{ij}) - \\theta_i(t)) + h_i(t)$$\n",
        "here, as before, $\\theta_i$ is the phase of oscillator $i$, $\\omega_i$ is the natural frequency of oscillator $i$, $\\zeta_i$ is the noise term, $K$ is the global coupling strength, $A$ is the coupling matrix, $\\tau_{ij}$ is the phase lag between oscillator $i$ and $j$, and $h_i(t)$ is the external input to oscillator $i$.\n",
        "\n",
        "\n",
        "The Kuramoto model describes synchronization between oscillators. Nodes in the network are influenced not only by their own natural frequency but also by the other nodes in the network. The strength of this influence is determined by the global coupling and the connectivity matrix. The degree of synchronization depends on the strength of the coupling. The Kuramoto model is relatively simple, mathematically tractable, and easy to understand.\n",
        "\n",
        "Here we are dealing with phase over time, so this is not the same as the fMRI timeseries. Nonetheless, the same visual results would still apply to the amplitude of the signal. For example, if two region have the same, or very similar, phases, their functional connectivity would be ~1. Remember that functional connectivity measures how two regions behave together, meaning that if their amplitutes/phases increase at the same time, the regions have high functional connectivity, while as if one increases and the other one decreases, there is little functional connectivity between the two.\n"
      ]
    },
    {
      "cell_type": "markdown",
      "id": "d059e9c5",
      "metadata": {
        "id": "d059e9c5"
      },
      "source": [
        "Turn off your volume before running the next video"
      ]
    },
    {
      "cell_type": "code",
      "execution_count": null,
      "id": "2597198d",
      "metadata": {
        "id": "2597198d"
      },
      "outputs": [],
      "source": [
        "# @title Run to show video of coupled oscillators\n",
        "from IPython.display import IFrame\n",
        "\n",
        "IFrame(src=\"https://www.youtube.com/embed/T58lGKREubo?si=sYdgFrInHaz0yPEL\", width=560, height=315)"
      ]
    },
    {
      "cell_type": "markdown",
      "id": "b798ede3",
      "metadata": {
        "id": "b798ede3"
      },
      "source": [
        "In the video you can see how oscillators behave when they are connected. What do you notice? How does the movement of each pendulum start with respect to others? How does it end?"
      ]
    },
    {
      "cell_type": "markdown",
      "id": "ddd38898",
      "metadata": {
        "id": "ddd38898"
      },
      "source": [
        "Now we are going to explore the role of coupling. In this scenario we have several oscillators connected to each other. Each oscillator starts with its own frequency and then we will see how they behave over time. First, let's see what happens when the oscillators are not coupled. What do you see?"
      ]
    },
    {
      "cell_type": "code",
      "execution_count": null,
      "id": "52c1df14",
      "metadata": {
        "id": "52c1df14"
      },
      "outputs": [],
      "source": [
        "# setting parameters\n",
        "N = 6\n",
        "# cmat is the structural connectivity matrix (here we start with a fully\n",
        "# connected network)\n",
        "cmat = np.ones((N, N)) # fully connected network\n",
        "# dmat is the delay matrix, at the moment we consider instantaneous interactions\n",
        "# between brain regions, so no delays\n",
        "dmat = np.zeros((N,N)) # no delays\n",
        "\n",
        "# Let's create a network model!\n",
        "network_model = KuramotoModel(Cmat=cmat, Dmat=dmat)\n",
        "# Set the duration of the simulation\n",
        "network_model.params['duration'] = 50\n",
        "# Set the intrinsic frequency\n",
        "network_model.params['omega'] = np.random.rand((N)) * 0.25 * np.pi\n",
        "# Let's start without any noise\n",
        "network_model.params['sigma_ou'] = 0.\n",
        "# For now our oscillators are uncoupled, so K = 0\n",
        "network_model.params['k'] = 0\n",
        "network_model.run()\n",
        "\n",
        "theta = network_model['theta'].T\n",
        "# cap the phase to be between 0 and 2pi\n",
        "theta_capped = np.mod(theta, 2*np.pi)\n",
        "\n",
        "# set up the figure\n",
        "fig, ax = plt.subplots(1, 1, figsize=(10, 4))\n",
        "\n",
        "plt.plot(network_model.t, theta_capped)\n",
        "plt.xlabel(\"Time\")\n",
        "plt.ylabel(\"Theta\")\n",
        "plt.yticks(np.arange(0, 2*np.pi+0.1, np.pi/2), [ r\"$0$\", r\"$\\pi/2$\", r\"$\\pi$\", r\"$3/4\\pi$\", r\"$2\\pi$\",])# modify y-axis ticks to be in multiples of pi\n",
        "plt.show()"
      ]
    },
    {
      "cell_type": "markdown",
      "id": "703817cb",
      "metadata": {
        "id": "703817cb"
      },
      "source": [
        "<div class=\"alert alert-block alert-success\">\n",
        "<b> Exercise </b><p>\n",
        "\n",
        "Change the coupling and noise to see what happens to the phases. What happens to the signals when you increase coupling? If you leave the coupling constant and increase noise, what happens? Does an increase in noise facilitate coupling or not?\n",
        "\n",
        "Write down your answer...\n",
        "<p>\n"
      ]
    },
    {
      "cell_type": "code",
      "execution_count": null,
      "id": "b11cb913",
      "metadata": {
        "id": "b11cb913"
      },
      "outputs": [],
      "source": [
        "# @title Run this cell to enable the widget\n",
        "# Function to run the model and plot the results\n",
        "def run_kuramoto_network_model(coupling, noise=0):\n",
        "  # Let's create a network model!\n",
        "  network_model = KuramotoModel(Cmat=cmat, Dmat=dmat)\n",
        "  # Set the duration of the simulation\n",
        "  network_model.params['duration'] = 50\n",
        "  # Set the intrinsic frequencye\n",
        "  network_model.params['omega'] = np.ones((N)) * 0.25 * np.pi\n",
        "  # Let's start without any noise\n",
        "  network_model.params['sigma_ou'] = noise\n",
        "  # For now our oscillators are uncoupled, so K = 0\n",
        "  network_model.params['k'] = coupling\n",
        "  network_model.run()\n",
        "  plt.plot(network_model.outputs['t'], network_model.outputs['theta'].T)\n",
        "  plt.title('Kuramoto Model Output')\n",
        "  plt.xlabel('Time')\n",
        "  plt.ylabel('Theta')\n",
        "  plt.yticks(np.arange(0, 2*np.pi+0.1, np.pi/2), [ r\"$0$\", r\"$\\pi/2$\", r\"$\\pi$\", r\"$3/4\\pi$\", r\"$2\\pi$\",])# modify y-axis ticks to be in multiples of pi\n",
        "  plt.show()\n",
        "\n",
        "# Create interactive widgets for frequency and noise\n",
        "coupling_slider = FloatSlider(min=0, max=1, step=0.01, value=0, description='Coupling')\n",
        "noise_slider = FloatSlider(min=0, max=2, step=0.1, value=0, description='Noise')\n",
        "\n",
        "# Use the interact function to update the model based on slider values\n",
        "interact(run_kuramoto_network_model, coupling=coupling_slider, noise=noise_slider)"
      ]
    },
    {
      "cell_type": "markdown",
      "id": "a64f4e35",
      "metadata": {
        "id": "a64f4e35"
      },
      "source": [
        "# Recap\n",
        "\n",
        "\n",
        "A possible way to simulate the activity of the brain over time is to use **whole-brain models**.\n",
        "\n",
        "Whole-brain models encompass a collection of equations that depict the dynamics and interplay among neural populations across various brain regions. In simpler terms, you divide the brain in different regions (remember the parcellations of different colors from the previous lecture) and simulate the activity of each region over time using a differential equation (for those that don't have a maths background, don't be scared, we won't dive into the details). These equations can be either formulated based on an understanding of the biophysical mechanisms that underlie diverse brain activities (biophysical models, e.g., based on specific assumptions like neuronal membrane conductance), or they can be chosen based on the dynamics they generate (phenomenological models, they describe what we see pretty well, even though they don't arise from biological variables). We will dive further into the differences later on.\n",
        "The local dynamics between different regions are then combined with estimates of anatomical connectivity networks obtained from in vivo measurements (via the structural connectivity matrix we discussed in the previous lecture).\n",
        "\n",
        "Most whole-brain models thus consist of three fundamental components:\n",
        "\n",
        "- *Local dynamics:* The activity of each brain region is typically determined by the selected local dynamics along with interaction terms involving other regions (e.g non-linear oscillators, neural field theory, neural mass models, etc.). As previously stated, the spatial scale is a limiting factor. If you were to simulate each neuron, you would have approximately 86 billions equations + 100 trillions of connection (this is if you summarize each neuron with just one free variable)... This is not achievable in real life, so if we want to simulate the whole brain we need to compromise on spatial scale. What we can do is simplify the activity of hundreds of millions of neurons (those composing each of our ROIs, see next) with just one (or a few) simple equation. So each of our regions will be in the order of 5-10 cm^2.\n",
        "\n",
        "- *Brain parcellation:* A brain parcellation determines the number of regions and the spatial resolution at which the brain dynamics occur. This parcellation may include cortical, sub-cortical, and cerebellar regions.\n",
        "\n",
        "- *Anatomical connectivity matrix:* This matrix defines the network of connections between brain regions. Many studies rely on the human connectome, which is derived by estimating the number of white-matter fibers connecting different brain areas using DTI data combined with probabilistic tractography.\n",
        "\n",
        "\n",
        "In this tutorial we covered some of the key components involved in computational modelling of single region dynamics. In the next lecture we will try to recreate a whole brain!"
      ]
    },
    {
      "cell_type": "markdown",
      "id": "d7ba2fe7",
      "metadata": {
        "id": "d7ba2fe7"
      },
      "source": [
        "# Last remarks and instructions on group work\n",
        "*10 minutes*"
      ]
    },
    {
      "cell_type": "markdown",
      "id": "ti9f4LPcpi_t",
      "metadata": {
        "id": "ti9f4LPcpi_t"
      },
      "source": [
        "# Acknowledgments\n",
        "Parts of this tutorial were taken from [Neuromatch Academy](https://compneuro.neuromatch.io/tutorials/intro.html). Their course on Computational Neuroscience delves into many more details on dynamical systems and biophysically detailed neural mass models. If you are interested in these topics, it is free to follow at your own pace.\n",
        "\n",
        "[TVB](https://wiki.ebrains.eu/bin/view/Collabs/documentation/tutorials/The%20Virtual%20Brain/) also offers some more tutorials. Further tutorials  (credits to Davide Momi, Joana Cabral and John Griffiths) can be found [here](https://griffithslab.github.io/OHBM-whole-brain-modelling-course/).\n",
        "\n"
      ]
    }
  ],
  "metadata": {
    "colab": {
      "provenance": [],
      "include_colab_link": true
    },
    "kernelspec": {
      "display_name": "Python 3 (ipykernel)",
      "language": "python",
      "name": "python3"
    },
    "language_info": {
      "codemirror_mode": {
        "name": "ipython",
        "version": 3
      },
      "file_extension": ".py",
      "mimetype": "text/x-python",
      "name": "python",
      "nbconvert_exporter": "python",
      "pygments_lexer": "ipython3",
      "version": "3.11.0"
    }
  },
  "nbformat": 4,
  "nbformat_minor": 5
}