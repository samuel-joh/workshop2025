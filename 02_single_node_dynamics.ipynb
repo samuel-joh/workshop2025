{
  "cells": [
    {
      "cell_type": "markdown",
      "metadata": {
        "id": "view-in-github",
        "colab_type": "text"
      },
      "source": [
        "<a href=\"https://colab.research.google.com/github/samuel-joh/workshop2025/blob/main/02_single_node_dynamics.ipynb\" target=\"_parent\"><img src=\"https://colab.research.google.com/assets/colab-badge.svg\" alt=\"Open In Colab\"/></a>"
      ]
    },
    {
      "cell_type": "markdown",
      "id": "3ae2e81b",
      "metadata": {
        "id": "3ae2e81b"
      },
      "source": [
        "<a href=\"https://colab.research.google.com/github/computational-neurology/workshop2025/blob/main/02_single_node_dynamics.ipynb\" target=\"_parent\"><img src=\"https://colab.research.google.com/assets/colab-badge.svg\" alt=\"Open In Colab\"/></a>"
      ]
    },
    {
      "cell_type": "markdown",
      "id": "F0nERzRYlivk",
      "metadata": {
        "id": "F0nERzRYlivk"
      },
      "source": [
        "# Presentations / questions from previous lecture\n",
        "*30 mins*"
      ]
    },
    {
      "cell_type": "code",
      "execution_count": 1,
      "id": "d96728a7",
      "metadata": {
        "id": "d96728a7"
      },
      "outputs": [],
      "source": [
        "# @title Run this to install dependencies\n",
        "%%capture\n",
        "import sys\n",
        "! pip install ipywidgets"
      ]
    },
    {
      "cell_type": "markdown",
      "id": "UR-UQIXgzxo1",
      "metadata": {
        "id": "UR-UQIXgzxo1"
      },
      "source": [
        "## Building a model of the brain's activity\n",
        "\n",
        "*10 mins*\n"
      ]
    },
    {
      "cell_type": "code",
      "execution_count": 2,
      "id": "7c46c535",
      "metadata": {
        "id": "7c46c535",
        "colab": {
          "base_uri": "https://localhost:8080/",
          "height": 1000
        },
        "outputId": "ce848d5b-1731-4777-b2c0-2f62a77851ca"
      },
      "outputs": [
        {
          "output_type": "display_data",
          "data": {
            "text/html": [
              "<img src=\"https://media.springernature.com/full/springer-static/image/art%3A10.1038%2Fnn.4502/MediaObjects/41593_2017_Article_BFnn4502_Fig1_HTML.jpg?as=webp\" width=\"800\"/>"
            ],
            "text/plain": [
              "<IPython.core.display.Image object>"
            ]
          },
          "metadata": {}
        },
        {
          "output_type": "stream",
          "name": "stdout",
          "text": [
            "From: Bassett, D., Sporns, O. Network neuroscience. Nat Neurosci 20, 353–364 (2017). https://doi.org/10.1038/nn.4502\n"
          ]
        },
        {
          "output_type": "display_data",
          "data": {
            "text/html": [
              "<img src=\"https://media.springernature.com/full/springer-static/image/art%3A10.1007%2Fs10548-021-00828-2/MediaObjects/10548_2021_828_Fig2_HTML.png?as=webp\" width=\"800\"/>"
            ],
            "text/plain": [
              "<IPython.core.display.Image object>"
            ]
          },
          "metadata": {}
        },
        {
          "output_type": "stream",
          "name": "stdout",
          "text": [
            "From: Glomb K, Cabral J, Cattani A, Mazzoni A, Raj A, Franceschiello B. Computational Models in Electroencephalography. Brain Topogr. 2022 Jan;35(1):142-161. doi: 10.1007/s10548-021-00828-2. Epub 2021 Mar 29. PMID: 33779888; PMCID: PMC8813814.\n"
          ]
        },
        {
          "output_type": "display_data",
          "data": {
            "text/html": [
              "<img src=\"https://media.springernature.com/full/springer-static/image/chp%3A10.1007%2F978-3-030-89439-9_13/MediaObjects/483471_1_En_13_Fig1_HTML.png?as=webp\" width=\"800\"/>"
            ],
            "text/plain": [
              "<IPython.core.display.Image object>"
            ]
          },
          "metadata": {}
        },
        {
          "output_type": "stream",
          "name": "stdout",
          "text": [
            "From: Griffiths, J.D., Bastiaens, S.P., Kaboodvand, N. (2022). Whole-Brain Modelling: Past, Present, and Future. In: Giugliano, M., Negrello, M., Linaro, D. (eds) Computational Modelling of the Brain. Advances in Experimental Medicine and Biology(), vol 1359. Springer, Cham. https://doi.org/10.1007/978-3-030-89439-9_13\n"
          ]
        }
      ],
      "source": [
        "from IPython.display import Image, display\n",
        "\n",
        "\n",
        "emp_scale = \"https://media.springernature.com/full/springer-static/image/art%3A10.1038%2Fnn.4502/MediaObjects/41593_2017_Article_BFnn4502_Fig1_HTML.jpg?as=webp\"\n",
        "display(Image(url=emp_scale, width=800))\n",
        "print(\"From: Bassett, D., Sporns, O. Network neuroscience. Nat Neurosci 20, 353–364 (2017). https://doi.org/10.1038/nn.4502\")\n",
        "\n",
        "sim_scale = \"https://media.springernature.com/full/springer-static/image/art%3A10.1007%2Fs10548-021-00828-2/MediaObjects/10548_2021_828_Fig2_HTML.png?as=webp\"\n",
        "display(Image(url=sim_scale, width=800))\n",
        "print(\"From: Glomb K, Cabral J, Cattani A, Mazzoni A, Raj A, Franceschiello B. Computational Models in Electroencephalography. Brain Topogr. 2022 Jan;35(1):142-161. doi: 10.1007/s10548-021-00828-2. Epub 2021 Mar 29. PMID: 33779888; PMCID: PMC8813814.\")\n",
        "\n",
        "wbm = \"https://media.springernature.com/full/springer-static/image/chp%3A10.1007%2F978-3-030-89439-9_13/MediaObjects/483471_1_En_13_Fig1_HTML.png?as=webp\"\n",
        "display(Image(url=wbm, width=800))\n",
        "\n",
        "print(\"From: Griffiths, J.D., Bastiaens, S.P., Kaboodvand, N. (2022). Whole-Brain Modelling: Past, Present, and Future. In: Giugliano, M., Negrello, M., Linaro, D. (eds) Computational Modelling of the Brain. Advances in Experimental Medicine and Biology(), vol 1359. Springer, Cham. https://doi.org/10.1007/978-3-030-89439-9_13\")"
      ]
    },
    {
      "cell_type": "code",
      "execution_count": 3,
      "id": "h3LgcwfX2bP3",
      "metadata": {
        "cellView": "form",
        "id": "h3LgcwfX2bP3"
      },
      "outputs": [],
      "source": [
        "# @title Imports, don't forget to run this cell\n",
        "import numpy as np\n",
        "import matplotlib.pyplot as plt\n",
        "from scipy.integrate import solve_ivp  # numerical integration solver"
      ]
    },
    {
      "cell_type": "code",
      "execution_count": 4,
      "id": "8I6Wx6fI2fi6",
      "metadata": {
        "cellView": "form",
        "id": "8I6Wx6fI2fi6"
      },
      "outputs": [],
      "source": [
        "# @title Figure settings, don't forget to run this cell\n",
        "import logging\n",
        "logging.getLogger('matplotlib.font_manager').disabled = True\n",
        "\n",
        "import ipywidgets as widgets  # interactive display\n",
        "%config InlineBackend.figure_format = 'retina'\n",
        "plt.style.use(\"https://raw.githubusercontent.com/NeuromatchAcademy/course-content/main/nma.mplstyle\")"
      ]
    },
    {
      "cell_type": "code",
      "execution_count": 5,
      "id": "BLQ93ev02kCd",
      "metadata": {
        "cellView": "form",
        "id": "BLQ93ev02kCd"
      },
      "outputs": [],
      "source": [
        "# @title Plotting Functions, don't forget to run this cell\n",
        "def plot_trajectory(system, params, initial_condition, dt=0.1, T=6,\n",
        "                    figtitle=None):\n",
        "\n",
        "  \"\"\"\n",
        "  Shows the solution of a linear system with two variables in 3 plots.\n",
        "  The first plot shows x1 over time. The second plot shows x2 over time.\n",
        "  The third plot shows x1 and x2 in a phase portrait.\n",
        "\n",
        "  Args:\n",
        "    system (function): a function f(x) that computes a derivative from\n",
        "                        inputs (t, [x1, x2], *params)\n",
        "    params (list or tuple): list of parameters for function \"system\"\n",
        "    initial_condition (list or array): initial condition x0\n",
        "    dt (float): time step of simulation\n",
        "    T (float): end time of simulation\n",
        "    figtitlte (string): title for the figure\n",
        "\n",
        "  Returns:\n",
        "    nothing, but it shows a figure\n",
        "  \"\"\"\n",
        "\n",
        "  # time points for which we want to evaluate solutions\n",
        "  t = np.arange(0, T, dt)\n",
        "\n",
        "  # Integrate\n",
        "  # use built-in ode solver\n",
        "  solution = solve_ivp(system,\n",
        "                    t_span=(0, T),\n",
        "                    y0=initial_condition, t_eval=t,\n",
        "                    args=(params),\n",
        "                    dense_output=True)\n",
        "  x = solution.y\n",
        "\n",
        "  # make a color map to visualize time\n",
        "  timecolors = np.array([(1 , 0 , 0, i)  for i in t / t[-1]])\n",
        "\n",
        "  # make a large figure\n",
        "  fig, (ah1, ah2, ah3) = plt.subplots(1, 3)\n",
        "  fig.set_size_inches(10, 3)\n",
        "\n",
        "  # plot x1 as a function of time\n",
        "  ah1.scatter(t, x[0,], color=timecolors)\n",
        "  ah1.set_xlabel('time')\n",
        "  ah1.set_ylabel('x1', labelpad=-5)\n",
        "\n",
        "  # plot x2 as a function of time\n",
        "  ah2.scatter(t, x[1], color=timecolors)\n",
        "  ah2.set_xlabel('time')\n",
        "  ah2.set_ylabel('x2', labelpad=-5)\n",
        "\n",
        "  # plot x1 and x2 in a phase portrait\n",
        "  ah3.scatter(x[0,], x[1,], color=timecolors)\n",
        "  ah3.set_xlabel('x1')\n",
        "  ah3.set_ylabel('x2', labelpad=-5)\n",
        "  #include initial condition is a blue cross\n",
        "  ah3.plot(x[0,0], x[1,0], 'bx')\n",
        "\n",
        "  # adjust spacing between subplots\n",
        "  plt.subplots_adjust(wspace=0.5)\n",
        "\n",
        "  # add figure title\n",
        "  if figtitle is not None:\n",
        "    fig.suptitle(figtitle, size=16)\n",
        "  plt.show()\n",
        "\n",
        "\n",
        "def plot_streamplot(A, ax, figtitle=None, show=True):\n",
        "  \"\"\"\n",
        "  Show a stream plot for a linear ordinary differential equation with\n",
        "  state vector x=[x1,x2] in axis ax.\n",
        "\n",
        "  Args:\n",
        "    A (numpy array): 2x2 matrix specifying the dynamical system\n",
        "    ax (matplotlib.axes): axis to plot\n",
        "    figtitle (string): title for the figure\n",
        "    show (boolean): enable plt.show()\n",
        "\n",
        "  Returns:\n",
        "    nothing, but shows a figure\n",
        "  \"\"\"\n",
        "\n",
        "  # sample 20 x 20 grid uniformly to get x1 and x2\n",
        "  grid = np.arange(-20, 21, 1)\n",
        "  x1, x2 = np.meshgrid(grid, grid)\n",
        "\n",
        "  # calculate x1dot and x2dot at each grid point\n",
        "  x1dot = A[0,0] * x1 + A[0,1] * x2\n",
        "  x2dot = A[1,0] * x1 + A[1,1] * x2\n",
        "\n",
        "  # make a colormap\n",
        "  magnitude = np.sqrt(x1dot ** 2 + x2dot ** 2)\n",
        "  color = 2 * np.log1p(magnitude) #Avoid taking log of zero\n",
        "\n",
        "  # plot\n",
        "  plt.sca(ax)\n",
        "  plt.streamplot(x1, x2, x1dot, x2dot, color=color,\n",
        "                 linewidth=1, cmap=plt.cm.cividis,\n",
        "                 density=2, arrowstyle='->', arrowsize=1.5)\n",
        "  plt.xlabel(r'$x1$')\n",
        "  plt.ylabel(r'$x2$')\n",
        "\n",
        "  # figure title\n",
        "  if figtitle is not None:\n",
        "    plt.title(figtitle, size=16)\n",
        "\n",
        "  # include eigenvectors\n",
        "  if True:\n",
        "    # get eigenvalues and eigenvectors of A\n",
        "    lam, v = np.linalg.eig(A)\n",
        "\n",
        "    # get eigenvectors of A\n",
        "    eigenvector1 = v[:,0].real\n",
        "    eigenvector2 = v[:,1].real\n",
        "\n",
        "    # plot eigenvectors\n",
        "    plt.arrow(0, 0, 20*eigenvector1[0], 20*eigenvector1[1],\n",
        "              width=0.5, color='r', head_width=2,\n",
        "              length_includes_head=True)\n",
        "    plt.arrow(0, 0, 20*eigenvector2[0], 20*eigenvector2[1],\n",
        "              width=0.5, color='b', head_width=2,\n",
        "              length_includes_head=True)\n",
        "  if show:\n",
        "    plt.show()\n",
        "\n",
        "\n",
        "def plot_specific_example_stream_plots(A_options):\n",
        "  \"\"\"\n",
        "  Show a stream plot for each A in A_options\n",
        "\n",
        "  Args:\n",
        "    A (list): a list of numpy arrays (each element is A)\n",
        "\n",
        "  Returns:\n",
        "    nothing, but shows a figure\n",
        "  \"\"\"\n",
        "  # get stream plots for the four different systems\n",
        "  plt.figure(figsize=(10, 10))\n",
        "\n",
        "  for i, A in enumerate(A_options):\n",
        "\n",
        "    ax = plt.subplot(2, 2, 1+i)\n",
        "    # get eigenvalues and eigenvectors\n",
        "    lam, v = np.linalg.eig(A)\n",
        "\n",
        "    # plot eigenvalues as title\n",
        "    # (two spaces looks better than one)\n",
        "    eigstr = \",  \".join([f\"{x:.2f}\" for x in lam])\n",
        "    figtitle =f\"A with eigenvalues\\n\"+ '[' + eigstr + ']'\n",
        "    plot_streamplot(A, ax, figtitle=figtitle, show=False)\n",
        "\n",
        "    # Remove y_labels on righthand plots\n",
        "    if i % 2:\n",
        "      ax.set_ylabel(None)\n",
        "    if i < 2:\n",
        "      ax.set_xlabel(None)\n",
        "\n",
        "    plt.subplots_adjust(wspace=0.3, hspace=0.3)\n",
        "  plt.show()"
      ]
    },
    {
      "cell_type": "markdown",
      "id": "zRrPU31G_PAI",
      "metadata": {
        "id": "zRrPU31G_PAI"
      },
      "source": [
        "<div class=\"alert alert-block alert-success\">\n",
        "<b>Exercise 1a </b><p>\n",
        "The following cell is a recap of relevant equations. Try to complete the following function integrate_exponential() to perform the forward Euler Integration scheme. Substitute the [...] with your code.\n",
        "\n",
        "*Hint: You should translate to code the equations below*\n",
        "\n",
        "Try to solve it on your own for around 10 minutes. Then, if you are stuck, you can copy the code for the function integrate_exponential() from the next hidden cell."
      ]
    },
    {
      "cell_type": "markdown",
      "id": "ff4713ec",
      "metadata": {
        "id": "ff4713ec"
      },
      "source": [
        "Here we will implement our own forward Euler integration scheme allowing us to solve a differential equation numerically. Recap: differential equations express the **rate of change** of the state variable $x$. One typically describes this rate of change using the derivative of $x$ with respect to time ($dx/dt$, which is the same as saying $\\dot{x}$) on the left hand side of the differential equation.\n",
        "\n",
        "In a simple linear dynamical system:\n",
        "\n",
        "$$\\dot{x} = a x$$\n",
        "\n",
        "where $a$ is a scalar.\n",
        "\n",
        "Solutions the previous equations are:\n",
        "\n",
        "\\begin{equation}\n",
        "x(t) = x_0 e^{(a t)}\n",
        "\\end{equation}\n",
        "\n",
        "where $x_0$ is the **initial condition** of the equation -- that is, the value of $x$ at time $0$.\n",
        "</details>\n",
        "\n",
        "We can simulate an ordinary differential equation by modeling time as a discrete list of time steps $t_0, t_1, t_2, \\dots$, such that $t_{i+1}=t_i+dt$. We can get the small change $dx$ over a small duration $dt$ of time from the definition of the differential:\n",
        "\n",
        "$$\n",
        "\\begin{align}\n",
        "\\dot x &= \\frac{dx}{dt} \\\\\n",
        "dx &= \\dot x\\, dt\n",
        "\\end{align}\n",
        "$$\n",
        "\n",
        "So, at each time step $t_i$, we compute a value of $x$, $x(t_i)$, as the sum of the value of $x$ at the previous time step, $x(t_{i-1})$ and a small change $dx=\\dot x\\,dt$:\n",
        "\n",
        "\\begin{equation}\n",
        "x(t_i)=x(t_{i-1})+\\dot x(t_{i-1}) dt\n",
        "\\end{equation}\n"
      ]
    },
    {
      "cell_type": "code",
      "execution_count": 7,
      "id": "00de7512",
      "metadata": {
        "id": "00de7512"
      },
      "outputs": [],
      "source": [
        "def integrate_exponential(a, x0, dt, T):\n",
        "  \"\"\"Compute solution of the differential equation xdot=a*x with\n",
        "  initial condition x0 for a duration T. Use time step dt for numerical\n",
        "  solution.\n",
        "\n",
        "  Args:\n",
        "    a (scalar): parameter of xdot (xdot=a*x)\n",
        "    x0 (scalar): initial condition (x at time 0)\n",
        "    dt (scalar): timestep of the simulation\n",
        "    T (scalar): total duration of the simulation\n",
        "\n",
        "  Returns:\n",
        "    ndarray, ndarray: `x` for all simulation steps and the time `t` at each step\n",
        "  \"\"\"\n",
        "\n",
        "  # Initialize variables\n",
        "  t = np.arange(0, T, dt)\n",
        "  x = np.zeros_like(t, dtype=complex)\n",
        "  x[0] = x0\n",
        "\n",
        "  # Step through system and integrate in time\n",
        "\n",
        "  for k in range(1, len(t)):\n",
        "    xdot = x[k-1] * a\n",
        "    x[k] = xdot * dt + x[k-1]\n",
        "\n",
        "  return x, t"
      ]
    },
    {
      "cell_type": "code",
      "execution_count": null,
      "id": "762fc0bb",
      "metadata": {
        "id": "762fc0bb",
        "cellView": "form"
      },
      "outputs": [],
      "source": [
        "# @title Copy the function if you get stuck\n",
        "\n",
        "# Have you tried for 10 minutes on your own?\n",
        "# Have you tried for 10 minutes on your own?\n",
        "# Have you tried for 10 minutes on your own?\n",
        "# Have you tried for 10 minutes on your own?\n",
        "# Have you tried for 10 minutes on your own?\n",
        "# Have you tried for 10 minutes on your own?\n",
        "# Have you tried for 10 minutes on your own?\n",
        "# Have you tried for 10 minutes on your own?\n",
        "# Have you tried for 10 minutes on your own?\n",
        "# Are you sure?\n",
        "# Are you sure?\n",
        "# Are you sure?\n",
        "# Are you sure?\n",
        "# Are you sure?\n",
        "# Are you sure?\n",
        "# Are you sure?\n",
        "# Are you sure?\n",
        "# Ok you can copy the function!\n",
        "\n",
        "def integrate_exponential(a, x0, dt, T):\n",
        "  \"\"\"Compute solution of the differential equation xdot=a*x with\n",
        "  initial condition x0 for a duration T. Use time step dt for numerical\n",
        "  solution.\n",
        "\n",
        "  Args:\n",
        "    a (scalar): parameter of xdot (xdot=a*x)\n",
        "    x0 (scalar): initial condition (x at time 0)\n",
        "    dt (scalar): timestep of the simulation\n",
        "    T (scalar): total duration of the simulation\n",
        "\n",
        "  Returns:\n",
        "    ndarray, ndarray: `x` for all simulation steps and the time `t` at each step\n",
        "  \"\"\"\n",
        "\n",
        "  # Initialize variables\n",
        "  t = np.arange(0, T, dt)\n",
        "  x = np.zeros_like(t, dtype=complex)\n",
        "  x[0] = x0 # This is x at time t_0\n",
        "\n",
        "  # Step through system and integrate in time\n",
        "\n",
        "  for k in range(1, len(t)):\n",
        "    xdot = x[k-1] * a\n",
        "    x[k] = xdot * dt + x[k-1]\n",
        "  return x, t"
      ]
    },
    {
      "cell_type": "markdown",
      "id": "8a40d714",
      "metadata": {
        "id": "8a40d714"
      },
      "source": []
    },
    {
      "cell_type": "markdown",
      "id": "5cde71d4",
      "metadata": {
        "id": "5cde71d4"
      },
      "source": [
        "<div class=\"alert alert-block alert-success\">\n",
        "<b>Exercise 1b </b><p>\n",
        "\n",
        "Try to plot the results and see how x changes over time. Try various initial conditions and a. How does the activity evolve in relation to different a or x0? Discuss in your group what you have found (5 mins)"
      ]
    },
    {
      "cell_type": "code",
      "execution_count": 27,
      "id": "pdOjMphB3ASK",
      "metadata": {
        "id": "pdOjMphB3ASK",
        "colab": {
          "base_uri": "https://localhost:8080/",
          "height": 492
        },
        "outputId": "470db444-a909-495f-bed3-6103b942a458"
      },
      "outputs": [
        {
          "output_type": "display_data",
          "data": {
            "text/plain": [
              "<Figure size 500x500 with 1 Axes>"
            ],
            "image/png": "[encoded data removed]"
          },
          "metadata": {
            "image/png": {
              "width": 475,
              "height": 475
            }
          }
        }
      ],
      "source": [
        "# Choose parameters\n",
        "a = 1    # parameter in f(x)\n",
        "T = 10      # total Time duration\n",
        "dt = 1  # timestep of our simulation\n",
        "x0 = 100.     # initial condition of x at time 0\n",
        "\n",
        "# Use Euler's method\n",
        "x, t = integrate_exponential(a, x0, dt, T)\n",
        "\n",
        "# Visualize\n",
        "plt.figure(figsize = (5,5))\n",
        "plt.plot(t, x.real)\n",
        "plt.xlabel('Time (s)')\n",
        "plt.ylabel('x')\n",
        "plt.show()"
      ]
    },
    {
      "cell_type": "markdown",
      "id": "awY_-sKiAKXZ",
      "metadata": {
        "id": "awY_-sKiAKXZ"
      },
      "source": [
        "<div class=\"alert alert-block alert-success\">\n",
        "<b>Exercise 1c </b><p>\n",
        "\n",
        "1.  The $dt$ is the step size of the forward Euler integration. What happens to the numerical solution when you increase $dt$? What happens if you lower it? First try to think about it and write down your answer.\n",
        "2. Go to the following cell and run it to activate the widget allowing you to test your hypothesis. Does the change in $dt$ from the widget reflect your hypothesis? Should you change your hypothesis in light of new evidence from the widget? Discuss with your group.\n",
        "\n",
        "*5 minutes*"
      ]
    },
    {
      "cell_type": "markdown",
      "id": "bhFusoHeKUn4",
      "metadata": {
        "id": "bhFusoHeKUn4"
      },
      "source": [
        "Write down your answer:\n",
        "...."
      ]
    },
    {
      "cell_type": "code",
      "execution_count": 21,
      "id": "7Nk2t25N3J2g",
      "metadata": {
        "id": "7Nk2t25N3J2g",
        "colab": {
          "base_uri": "https://localhost:8080/",
          "height": 424,
          "referenced_widgets": [
            "5eb3903cdc2844c382cc2e9cf7dc450f",
            "97e804e0266e4973b42d3a674a8b0d91",
            "1017cb5b1fc343239cf2502b6c8ca6eb",
            "0c0cc9f986eb4060b60b848946e697f4",
            "e5da33bbcb0545f2b064664c4c00c796",
            "0cf94426439c41bea2ed698648f44e92",
            "6b0f41a59a7043ebb15e0bc0ffb5eb24"
          ]
        },
        "outputId": "1589c86a-d71c-41cc-d69a-3083b40e6d23"
      },
      "outputs": [
        {
          "output_type": "display_data",
          "data": {
            "text/plain": [
              "interactive(children=(FloatSlider(value=1.0, description='dt', layout=Layout(width='450px'), max=4.0), Output(…"
            ],
            "application/vnd.jupyter.widget-view+json": {
              "version_major": 2,
              "version_minor": 0,
              "model_id": "5eb3903cdc2844c382cc2e9cf7dc450f"
            }
          },
          "metadata": {}
        }
      ],
      "source": [
        "# @title Make sure you execute this cell to enable the widget!\n",
        "def plot_slope(dt):\n",
        "  \"\"\"\n",
        "    Args:\n",
        "      dt  : time-step\n",
        "    Returns:\n",
        "      A figure of an exponential, the slope of the exponential and the derivative exponential\n",
        "  \"\"\"\n",
        "\n",
        "  t = np.arange(0, 5+0.1/2, 0.1)\n",
        "\n",
        "\n",
        "  fig = plt.figure(figsize=(6, 4))\n",
        "  # Exponential\n",
        "  p = np.exp(0.3*t)\n",
        "  plt.plot(t, p, label='x')\n",
        "  # slope\n",
        "  plt.plot([1, 1+dt], [np.exp(0.3*1), np.exp(0.3*(1+dt))],':og',label=r'$\\frac{x(1+\\Delta t)-x(1)}{\\Delta t}$')\n",
        "  # derivative\n",
        "  plt.plot([1, 1+dt], [np.exp(0.3*1), np.exp(0.3*(1))+dt*0.3*np.exp(0.3*(1))],'-k',label=r'$\\frac{dx}{dt}$')\n",
        "  plt.legend()\n",
        "  plt.plot(1+dt, np.exp(0.3*(1+dt)), 'og')\n",
        "  plt.ylabel('x')\n",
        "  plt.xlabel('t')\n",
        "  plt.show()\n",
        "\n",
        "# Imports\n",
        "import numpy as np\n",
        "import matplotlib.pyplot as plt\n",
        "import logging\n",
        "logging.getLogger('matplotlib.font_manager').disabled = True\n",
        "import IPython.display as ipd\n",
        "from matplotlib import gridspec\n",
        "import ipywidgets as widgets  # interactive display\n",
        "from ipywidgets import Label\n",
        "%config InlineBackend.figure_format = 'retina'\n",
        "\n",
        "my_layout = widgets.Layout()\n",
        "\n",
        "feedback_prefix = \"W0D4_T3\"\n",
        "\n",
        "my_layout.width = '450px'\n",
        "@widgets.interact(\n",
        "\n",
        "    dt=widgets.FloatSlider(1, min=0., max=4., step=.1,\n",
        "                                layout=my_layout)\n",
        "\n",
        ")\n",
        "\n",
        "def Pop_widget(dt):\n",
        "  plot_slope(dt)\n",
        "  plt.show()"
      ]
    },
    {
      "cell_type": "markdown",
      "id": "K3WxhGB7AQLX",
      "metadata": {
        "id": "K3WxhGB7AQLX"
      },
      "source": [
        "<p>\n",
        " -End of exercise-\n",
        "    </div>\n"
      ]
    },
    {
      "cell_type": "markdown",
      "id": "fh0ruNpuAjng",
      "metadata": {
        "id": "fh0ruNpuAjng"
      },
      "source": [
        "<div class=\"alert alert-block alert-success\">\n",
        "<b> Bonus Exercise </b><p>\n",
        "\n",
        "In the following exercise, you can change the real part and imaginary part of $a$ (so a = real + imaginary i)\n",
        "\n",
        "1. What values of $a$ produce dynamics that both ***oscillate*** and ***grow***?\n",
        "2. What value of $a$ is needed to produce a stable oscillation of 0.5 Hertz (cycles/time units)?\n"
      ]
    },
    {
      "cell_type": "code",
      "execution_count": null,
      "id": "Fs0kyFzSAuP0",
      "metadata": {
        "cellView": "form",
        "id": "Fs0kyFzSAuP0"
      },
      "outputs": [],
      "source": [
        "# @title Make sure you execute this cell to enable the widget!\n",
        "\n",
        "# parameters\n",
        "T = 5  # total Time duration\n",
        "dt = 0.0001  # timestep of our simulation\n",
        "x0 = 1.  # initial condition of x at time 0\n",
        "\n",
        "@widgets.interact\n",
        "def plot_euler_integration(real=(-2, 2, .2), imaginary=(-4, 7, .1)):\n",
        "\n",
        "  a = complex(real, imaginary)\n",
        "  x, t = integrate_exponential(a, x0, dt, T)\n",
        "  plt.figure(figsize=(5,5))\n",
        "  plt.plot(t, x.real)  # integrate exponential returns complex\n",
        "  plt.grid(True)\n",
        "  plt.xlabel('Time (s)')\n",
        "  plt.ylabel('x')\n",
        "  plt.show()"
      ]
    },
    {
      "cell_type": "code",
      "execution_count": null,
      "id": "eNhQxR-tBd4m",
      "metadata": {
        "cellView": "form",
        "id": "eNhQxR-tBd4m"
      },
      "outputs": [],
      "source": [
        "# @title Solution, click to check if your idea is correct!\n",
        "# 1) To make the system both oscillate and grow, real has to be positive,\n",
        "# and imaginary has to be not zero.\n",
        "\n",
        "# 2) Stable oscillation of 0.5 Hz (half a cycle per unit time, or one cycle per two\n",
        "# unit time) is achieved with real = 0 and imaginary = +/- pi\n",
        "# (approximately 3.1 or -3.1)."
      ]
    },
    {
      "cell_type": "markdown",
      "id": "NjPMRjQdsf0t",
      "metadata": {
        "id": "NjPMRjQdsf0t"
      },
      "source": [
        "<p>\n",
        " -End of bonus exercise-\n",
        "</div>"
      ]
    },
    {
      "cell_type": "markdown",
      "id": "3e678e72",
      "metadata": {
        "id": "3e678e72"
      },
      "source": [
        "# Pause: 15 mins"
      ]
    },
    {
      "cell_type": "markdown",
      "id": "216db69e",
      "metadata": {
        "id": "216db69e"
      },
      "source": [
        "# Discussion of previous exercise: 10 minutes"
      ]
    },
    {
      "cell_type": "markdown",
      "id": "137a5ffd",
      "metadata": {
        "id": "137a5ffd"
      },
      "source": [
        "# Part 2: Node-level dynamics"
      ]
    },
    {
      "cell_type": "markdown",
      "id": "MAaLbnYlvS05",
      "metadata": {
        "id": "MAaLbnYlvS05"
      },
      "source": [
        "Now that we have a general idea of what a dynamical system is and how numerical solutions work, we will start to build our own model of the brain. Today we simulate the activity of a single brain region using a Python package called [Neurolib](https://github.com/neurolib-dev/neurolib) allowing for easy simulations of brain functional activity.\n",
        "\n",
        "Neurolib is very fast and easy to use, but there is also other software allowing you to do the same kinds of simulations, like [The Virtual Brain](https://thevirtualbrain.org/tvb/zwei) (TVB). With TVB you also get a graphical user interface if you are yet not too keen on programming, but want to explore whole-brain models while improving your coding skills. The only drawback from TVB is that it is currently pretty slow.\n",
        "\n",
        "The same concepts you will learn today, though, also apply to TVB or any other whole-brain modeling packages."
      ]
    },
    {
      "cell_type": "markdown",
      "id": "4571ba20",
      "metadata": {
        "id": "4571ba20"
      },
      "source": [
        "# Kuramoto Model\n",
        "*20 minutes*"
      ]
    },
    {
      "cell_type": "code",
      "execution_count": null,
      "id": "f0ede8fb",
      "metadata": {
        "id": "f0ede8fb"
      },
      "outputs": [],
      "source": [
        "%%capture\n",
        "# @title run this cell so neurolib will be installed while you read the text\n",
        "!{sys.executable} -m pip install git+https://github.com/neurolib-dev/neurolib.git"
      ]
    },
    {
      "cell_type": "markdown",
      "id": "29e8b343",
      "metadata": {
        "id": "29e8b343"
      },
      "source": [
        "![bio_vs_pheno](https://www.mdpi.com/brainsci/brainsci-13-01133/article_deploy/html/images/brainsci-13-01133-g002-550.jpg)"
      ]
    },
    {
      "cell_type": "markdown",
      "id": "tJFdZ3s4Xm04",
      "metadata": {
        "id": "tJFdZ3s4Xm04"
      },
      "source": [
        "We will start to simulate a single brain region using a simple phase oscillator model known as the Kuramoto model, telling us how the phase of the oscillator evolves over time. We will consider:\n",
        "\n",
        "$$ \\frac{d \\theta_i}{dt} = \\omega_i + \\zeta_i$$\n",
        "\n",
        "Here $\\theta_i$ is the phase of oscillator $i$, $\\omega_i$ is the natural frequency of oscillator $i$, $\\zeta_i$ is the noise term.\n",
        "\n",
        "We will use Neurolib to perform our simulations."
      ]
    },
    {
      "cell_type": "code",
      "execution_count": null,
      "id": "st460-YacQfP",
      "metadata": {
        "id": "st460-YacQfP"
      },
      "outputs": [],
      "source": [
        "import numpy as np\n",
        "import matplotlib.pyplot as plt\n",
        "# Some useful functions are provided here\n",
        "import neurolib.utils.functions as func\n",
        "# Let's import the Kuramoto model\n",
        "from neurolib.models.kuramoto import KuramotoModel\n",
        "\n",
        "# Initialize the Kuramoto model for a single node\n",
        "model = KuramotoModel()\n",
        "# Set the duration of your simulation\n",
        "model.params['duration'] = 100\n",
        "# Set the intrinsic frequency\n",
        "model.params['omega'] = np.array([.5 * np.pi])\n",
        "# Set the noise\n",
        "model.params['sigma_ou'] = 0\n",
        "# Let's run the model!\n",
        "model.run()"
      ]
    },
    {
      "cell_type": "markdown",
      "id": "23cddc89",
      "metadata": {
        "id": "23cddc89"
      },
      "source": [
        "### Perform exercise 2a-c\n",
        "If you have time you can also move to the bonus exercise on coupled oscillators. Don't worry if you don't have time, it will also be part of the preparatory material for next week."
      ]
    },
    {
      "cell_type": "markdown",
      "id": "f0761451",
      "metadata": {
        "id": "f0761451"
      },
      "source": [
        "<div class=\"alert alert-block alert-success\">\n",
        "<b> Exercise 2a </b><p>\n",
        "\n",
        "What are the model outputs? What do they mean? Hint: model.outputs is a dictionary...\n",
        "<p>"
      ]
    },
    {
      "cell_type": "code",
      "execution_count": null,
      "id": "2433423a",
      "metadata": {
        "id": "2433423a"
      },
      "outputs": [],
      "source": [
        "print(...)"
      ]
    },
    {
      "cell_type": "code",
      "execution_count": null,
      "id": "1cafd654",
      "metadata": {
        "id": "1cafd654"
      },
      "outputs": [],
      "source": [
        "#@ title Click to show the answer:\n",
        "# The model outputs a numpy array containing the times of our simulation and the corresponding phases."
      ]
    },
    {
      "cell_type": "markdown",
      "id": "53ff1726",
      "metadata": {
        "id": "53ff1726"
      },
      "source": [
        "<div class=\"alert alert-block alert-success\">\n",
        "<b> Exercise 2b </b><p>\n",
        "\n",
        "Print the evolution of the oscillator's phase over time. Your code goes into [...]\n",
        "<p>"
      ]
    },
    {
      "cell_type": "code",
      "execution_count": null,
      "id": "9URR19D8kbsI",
      "metadata": {
        "id": "9URR19D8kbsI"
      },
      "outputs": [],
      "source": [
        "# Get the theta and cap it to only 2 pi ()\n",
        "theta = model['theta'].T\n",
        "theta_capped = np.mod(theta, 2*np.pi) # cap theta to [0, 2*pi]\n",
        "# Plot the phases over time\n",
        "plt.figure(figsize=(5,5))\n",
        "plt.plot([...], [...])\n",
        "plt.xlabel(\"Time\")\n",
        "plt.ylabel(\"Theta\")\n",
        "plt.yticks(np.arange(0, 2*np.pi+0.1, np.pi/2), [ r\"$0$\", r\"$\\pi/2$\", r\"$\\pi$\", r\"$3/4\\pi$\", r\"$2\\pi$\",])# modify y-axis ticks to be in multiples of pi\n",
        "plt.show()"
      ]
    },
    {
      "cell_type": "markdown",
      "id": "e5WsPosCmz6X",
      "metadata": {
        "id": "e5WsPosCmz6X"
      },
      "source": [
        "<div class=\"alert alert-block alert-success\">\n",
        "<b> Exercise 2c </b><p>\n",
        "\n",
        "Run the following cell to display the outputs of the Kuramoto model for a single node.\n",
        "Write down your answer to the following questions and then check for yourself:\n",
        "1. What happens if you increase the frequency of the oscillator?\n",
        "2. What happens if you decrease it?\n",
        "3. What happens if you increase the noise?\n",
        "\n",
        "Your answers:\n",
        "1. ...\n",
        "2. ...\n",
        "3. ...\n",
        "\n",
        "<p>"
      ]
    },
    {
      "cell_type": "code",
      "execution_count": null,
      "id": "JUqMnuK5lV8-",
      "metadata": {
        "cellView": "form",
        "id": "JUqMnuK5lV8-"
      },
      "outputs": [],
      "source": [
        "# @title Run this cell to enable the widget\n",
        "from ipywidgets import interact, FloatSlider\n",
        "# Function to run the model and plot the results\n",
        "def run_kuramoto_model(frequency=0.5*np.pi, noise=0):\n",
        "    model = KuramotoModel()\n",
        "    model.params['duration'] = 100\n",
        "    model.params['omega'] = np.array([frequency])\n",
        "    model.params['sigma_ou'] = noise\n",
        "    model.run()\n",
        "    plt.plot(model.outputs['t'], model.outputs['theta'].T)\n",
        "    plt.title('Kuramoto Model Output')\n",
        "    plt.xlabel('Time')\n",
        "    plt.ylabel('Theta')\n",
        "    plt.show()\n",
        "\n",
        "# Create interactive widgets for frequency and noise\n",
        "frequency_slider = FloatSlider(min=0, max=np.pi, step=0.1, value=0.5*np.pi, description='Frequency')\n",
        "noise_slider = FloatSlider(min=0, max=2, step=0.1, value=0, description='Noise')\n",
        "\n",
        "# Use the interact function to update the model based on slider values\n",
        "interact(run_kuramoto_model, frequency=frequency_slider, noise=noise_slider)"
      ]
    },
    {
      "cell_type": "markdown",
      "id": "2ccf6bab",
      "metadata": {
        "id": "2ccf6bab"
      },
      "source": [
        "## Bonus: Coupling oscillators together"
      ]
    },
    {
      "cell_type": "markdown",
      "id": "88018781",
      "metadata": {
        "id": "88018781"
      },
      "source": [
        "The Kuramoto model for coupled oscillators is defined by the following differential equation:\n",
        "$$ \\frac{d \\theta_i}{dt} = \\omega_i + \\zeta_i + \\frac{K}{N} \\sum_{j=1}^N A_{ij} sin(\\theta_j(t - \\tau_{ij}) - \\theta_i(t)) + h_i(t)$$\n",
        "here, as before, $\\theta_i$ is the phase of oscillator $i$, $\\omega_i$ is the natural frequency of oscillator $i$, $\\zeta_i$ is the noise term, $K$ is the global coupling strength, $A$ is the coupling matrix, $\\tau_{ij}$ is the phase lag between oscillator $i$ and $j$, and $h_i(t)$ is the external input to oscillator $i$.\n",
        "\n",
        "\n",
        "The Kuramoto model describes synchronization between oscillators. Nodes in the network are influenced not only by their own natural frequency but also by the other nodes in the network. The strength of this influence is determined by the global coupling and the connectivity matrix. The degree of synchronization depends on the strength of the coupling. The Kuramoto model is relatively simple, mathematically tractable, and easy to understand.\n",
        "\n",
        "Here we are dealing with phase over time, so this is not the same as the fMRI timeseries. Nonetheless, the same visual results would still apply to the amplitude of the signal. For example, if two region have the same, or very similar, phases, their functional connectivity would be ~1. Remember that functional connectivity measures how two regions behave together, meaning that if their amplitutes/phases increase at the same time, the regions have high functional connectivity, while as if one increases and the other one decreases, there is little functional connectivity between the two.\n"
      ]
    },
    {
      "cell_type": "markdown",
      "id": "d059e9c5",
      "metadata": {
        "id": "d059e9c5"
      },
      "source": [
        "Turn off your volume before running the next video"
      ]
    },
    {
      "cell_type": "code",
      "execution_count": null,
      "id": "2597198d",
      "metadata": {
        "id": "2597198d"
      },
      "outputs": [],
      "source": [
        "# @title Run to show video of coupled oscillators\n",
        "from IPython.display import IFrame\n",
        "\n",
        "IFrame(src=\"https://www.youtube.com/embed/T58lGKREubo?si=sYdgFrInHaz0yPEL\", width=560, height=315)"
      ]
    },
    {
      "cell_type": "markdown",
      "id": "b798ede3",
      "metadata": {
        "id": "b798ede3"
      },
      "source": [
        "In the video you can see how oscillators behave when they are connected. What do you notice? How does the movement of each pendulum start with respect to others? How does it end?"
      ]
    },
    {
      "cell_type": "markdown",
      "id": "ddd38898",
      "metadata": {
        "id": "ddd38898"
      },
      "source": [
        "Now we are going to explore the role of coupling. In this scenario we have several oscillators connected to each other. Each oscillator starts with its own frequency and then we will see how they behave over time. First, let's see what happens when the oscillators are not coupled. What do you see?"
      ]
    },
    {
      "cell_type": "code",
      "execution_count": null,
      "id": "52c1df14",
      "metadata": {
        "id": "52c1df14"
      },
      "outputs": [],
      "source": [
        "# setting parameters\n",
        "N = 6\n",
        "# cmat is the structural connectivity matrix (here we start with a fully\n",
        "# connected network)\n",
        "cmat = np.ones((N, N)) # fully connected network\n",
        "# dmat is the delay matrix, at the moment we consider instantaneous interactions\n",
        "# between brain regions, so no delays\n",
        "dmat = np.zeros((N,N)) # no delays\n",
        "\n",
        "# Let's create a network model!\n",
        "network_model = KuramotoModel(Cmat=cmat, Dmat=dmat)\n",
        "# Set the duration of the simulation\n",
        "network_model.params['duration'] = 50\n",
        "# Set the intrinsic frequency\n",
        "network_model.params['omega'] = np.random.rand((N)) * 0.25 * np.pi\n",
        "# Let's start without any noise\n",
        "network_model.params['sigma_ou'] = 0.\n",
        "# For now our oscillators are uncoupled, so K = 0\n",
        "network_model.params['k'] = 0\n",
        "network_model.run()\n",
        "\n",
        "theta = network_model['theta'].T\n",
        "# cap the phase to be between 0 and 2pi\n",
        "theta_capped = np.mod(theta, 2*np.pi)\n",
        "\n",
        "# set up the figure\n",
        "fig, ax = plt.subplots(1, 1, figsize=(10, 4))\n",
        "\n",
        "plt.plot(network_model.t, theta_capped)\n",
        "plt.xlabel(\"Time\")\n",
        "plt.ylabel(\"Theta\")\n",
        "plt.yticks(np.arange(0, 2*np.pi+0.1, np.pi/2), [ r\"$0$\", r\"$\\pi/2$\", r\"$\\pi$\", r\"$3/4\\pi$\", r\"$2\\pi$\",])# modify y-axis ticks to be in multiples of pi\n",
        "plt.show()"
      ]
    },
    {
      "cell_type": "markdown",
      "id": "703817cb",
      "metadata": {
        "id": "703817cb"
      },
      "source": [
        "<div class=\"alert alert-block alert-success\">\n",
        "<b> Exercise </b><p>\n",
        "\n",
        "Change the coupling and noise to see what happens to the phases. What happens to the signals when you increase coupling? If you leave the coupling constant and increase noise, what happens? Does an increase in noise facilitate coupling or not?\n",
        "\n",
        "Write down your answer...\n",
        "<p>\n"
      ]
    },
    {
      "cell_type": "code",
      "execution_count": null,
      "id": "b11cb913",
      "metadata": {
        "id": "b11cb913"
      },
      "outputs": [],
      "source": [
        "# @title Run this cell to enable the widget\n",
        "# Function to run the model and plot the results\n",
        "def run_kuramoto_network_model(coupling, noise=0):\n",
        "  # Let's create a network model!\n",
        "  network_model = KuramotoModel(Cmat=cmat, Dmat=dmat)\n",
        "  # Set the duration of the simulation\n",
        "  network_model.params['duration'] = 50\n",
        "  # Set the intrinsic frequencye\n",
        "  network_model.params['omega'] = np.ones((N)) * 0.25 * np.pi\n",
        "  # Let's start without any noise\n",
        "  network_model.params['sigma_ou'] = noise\n",
        "  # For now our oscillators are uncoupled, so K = 0\n",
        "  network_model.params['k'] = coupling\n",
        "  network_model.run()\n",
        "  plt.plot(network_model.outputs['t'], network_model.outputs['theta'].T)\n",
        "  plt.title('Kuramoto Model Output')\n",
        "  plt.xlabel('Time')\n",
        "  plt.ylabel('Theta')\n",
        "  plt.yticks(np.arange(0, 2*np.pi+0.1, np.pi/2), [ r\"$0$\", r\"$\\pi/2$\", r\"$\\pi$\", r\"$3/4\\pi$\", r\"$2\\pi$\",])# modify y-axis ticks to be in multiples of pi\n",
        "  plt.show()\n",
        "\n",
        "# Create interactive widgets for frequency and noise\n",
        "coupling_slider = FloatSlider(min=0, max=1, step=0.01, value=0, description='Coupling')\n",
        "noise_slider = FloatSlider(min=0, max=2, step=0.1, value=0, description='Noise')\n",
        "\n",
        "# Use the interact function to update the model based on slider values\n",
        "interact(run_kuramoto_network_model, coupling=coupling_slider, noise=noise_slider)"
      ]
    },
    {
      "cell_type": "markdown",
      "id": "a64f4e35",
      "metadata": {
        "id": "a64f4e35"
      },
      "source": [
        "# Recap\n",
        "\n",
        "\n",
        "A possible way to simulate the activity of the brain over time is to use **whole-brain models**.\n",
        "\n",
        "Whole-brain models encompass a collection of equations that depict the dynamics and interplay among neural populations across various brain regions. In simpler terms, you divide the brain in different regions (remember the parcellations of different colors from the previous lecture) and simulate the activity of each region over time using a differential equation (for those that don't have a maths background, don't be scared, we won't dive into the details). These equations can be either formulated based on an understanding of the biophysical mechanisms that underlie diverse brain activities (biophysical models, e.g., based on specific assumptions like neuronal membrane conductance), or they can be chosen based on the dynamics they generate (phenomenological models, they describe what we see pretty well, even though they don't arise from biological variables). We will dive further into the differences later on.\n",
        "The local dynamics between different regions are then combined with estimates of anatomical connectivity networks obtained from in vivo measurements (via the structural connectivity matrix we discussed in the previous lecture).\n",
        "\n",
        "Most whole-brain models thus consist of three fundamental components:\n",
        "\n",
        "- *Local dynamics:* The activity of each brain region is typically determined by the selected local dynamics along with interaction terms involving other regions (e.g non-linear oscillators, neural field theory, neural mass models, etc.). As previously stated, the spatial scale is a limiting factor. If you were to simulate each neuron, you would have approximately 86 billions equations + 100 trillions of connection (this is if you summarize each neuron with just one free variable)... This is not achievable in real life, so if we want to simulate the whole brain we need to compromise on spatial scale. What we can do is simplify the activity of hundreds of millions of neurons (those composing each of our ROIs, see next) with just one (or a few) simple equation. So each of our regions will be in the order of 5-10 cm^2.\n",
        "\n",
        "- *Brain parcellation:* A brain parcellation determines the number of regions and the spatial resolution at which the brain dynamics occur. This parcellation may include cortical, sub-cortical, and cerebellar regions.\n",
        "\n",
        "- *Anatomical connectivity matrix:* This matrix defines the network of connections between brain regions. Many studies rely on the human connectome, which is derived by estimating the number of white-matter fibers connecting different brain areas using DTI data combined with probabilistic tractography.\n",
        "\n",
        "\n",
        "In this tutorial we covered some of the key components involved in computational modelling of single region dynamics. In the next lecture we will try to recreate a whole brain!"
      ]
    },
    {
      "cell_type": "markdown",
      "id": "d7ba2fe7",
      "metadata": {
        "id": "d7ba2fe7"
      },
      "source": [
        "# Last remarks and instructions on group work\n",
        "*10 minutes*"
      ]
    },
    {
      "cell_type": "markdown",
      "id": "ti9f4LPcpi_t",
      "metadata": {
        "id": "ti9f4LPcpi_t"
      },
      "source": [
        "# Acknowledgments\n",
        "Parts of this tutorial were taken from [Neuromatch Academy](https://compneuro.neuromatch.io/tutorials/intro.html). Their course on Computational Neuroscience delves into many more details on dynamical systems and biophysically detailed neural mass models. If you are interested in these topics, it is free to follow at your own pace.\n",
        "\n",
        "[TVB](https://wiki.ebrains.eu/bin/view/Collabs/documentation/tutorials/The%20Virtual%20Brain/) also offers some more tutorials. Further tutorials  (credits to Davide Momi, Joana Cabral and John Griffiths) can be found [here](https://griffithslab.github.io/OHBM-whole-brain-modelling-course/).\n",
        "\n"
      ]
    }
  ],
  "metadata": {
    "colab": {
      "provenance": [],
      "include_colab_link": true
    },
    "kernelspec": {
      "display_name": "Python 3 (ipykernel)",
      "language": "python",
      "name": "python3"
    },
    "language_info": {
      "codemirror_mode": {
        "name": "ipython",
        "version": 3
      },
      "file_extension": ".py",
      "mimetype": "text/x-python",
      "name": "python",
      "nbconvert_exporter": "python",
      "pygments_lexer": "ipython3",
      "version": "3.11.0"
    },
    "widgets": {
      "application/vnd.jupyter.widget-state+json": {
        "5eb3903cdc2844c382cc2e9cf7dc450f": {
          "model_module": "@jupyter-widgets/controls",
          "model_name": "VBoxModel",
          "model_module_version": "1.5.0",
          "state": {
            "_dom_classes": [
              "widget-interact"
            ],
            "_model_module": "@jupyter-widgets/controls",
            "_model_module_version": "1.5.0",
            "_model_name": "VBoxModel",
            "_view_count": null,
            "_view_module": "@jupyter-widgets/controls",
            "_view_module_version": "1.5.0",
            "_view_name": "VBoxView",
            "box_style": "",
            "children": [
              "IPY_MODEL_97e804e0266e4973b42d3a674a8b0d91",
              "IPY_MODEL_1017cb5b1fc343239cf2502b6c8ca6eb"
            ],
            "layout": "IPY_MODEL_0c0cc9f986eb4060b60b848946e697f4"
          }
        },
        "97e804e0266e4973b42d3a674a8b0d91": {
          "model_module": "@jupyter-widgets/controls",
          "model_name": "FloatSliderModel",
          "model_module_version": "1.5.0",
          "state": {
            "_dom_classes": [],
            "_model_module": "@jupyter-widgets/controls",
            "_model_module_version": "1.5.0",
            "_model_name": "FloatSliderModel",
            "_view_count": null,
            "_view_module": "@jupyter-widgets/controls",
            "_view_module_version": "1.5.0",
            "_view_name": "FloatSliderView",
            "continuous_update": true,
            "description": "dt",
            "description_tooltip": null,
            "disabled": false,
            "layout": "IPY_MODEL_e5da33bbcb0545f2b064664c4c00c796",
            "max": 4,
            "min": 0,
            "orientation": "horizontal",
            "readout": true,
            "readout_format": ".2f",
            "step": 0.1,
            "style": "IPY_MODEL_0cf94426439c41bea2ed698648f44e92",
            "value": 0
          }
        },
        "1017cb5b1fc343239cf2502b6c8ca6eb": {
          "model_module": "@jupyter-widgets/output",
          "model_name": "OutputModel",
          "model_module_version": "1.0.0",
          "state": {
            "_dom_classes": [],
            "_model_module": "@jupyter-widgets/output",
            "_model_module_version": "1.0.0",
            "_model_name": "OutputModel",
            "_view_count": null,
            "_view_module": "@jupyter-widgets/output",
            "_view_module_version": "1.0.0",
            "_view_name": "OutputView",
            "layout": "IPY_MODEL_6b0f41a59a7043ebb15e0bc0ffb5eb24",
            "msg_id": "",
            "outputs": [
              {
                "output_type": "display_data",
                "data": {
                  "text/plain": "<Figure size 600x400 with 1 Axes>",
                  "image/png": "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\n"
                },
                "metadata": {
                  "image/png": {
                    "width": 575,
                    "height": 375
                  }
                }
              }
            ]
          }
        },
        "0c0cc9f986eb4060b60b848946e697f4": {
          "model_module": "@jupyter-widgets/base",
          "model_name": "LayoutModel",
          "model_module_version": "1.2.0",
          "state": {
            "_model_module": "@jupyter-widgets/base",
            "_model_module_version": "1.2.0",
            "_model_name": "LayoutModel",
            "_view_count": null,
            "_view_module": "@jupyter-widgets/base",
            "_view_module_version": "1.2.0",
            "_view_name": "LayoutView",
            "align_content": null,
            "align_items": null,
            "align_self": null,
            "border": null,
            "bottom": null,
            "display": null,
            "flex": null,
            "flex_flow": null,
            "grid_area": null,
            "grid_auto_columns": null,
            "grid_auto_flow": null,
            "grid_auto_rows": null,
            "grid_column": null,
            "grid_gap": null,
            "grid_row": null,
            "grid_template_areas": null,
            "grid_template_columns": null,
            "grid_template_rows": null,
            "height": null,
            "justify_content": null,
            "justify_items": null,
            "left": null,
            "margin": null,
            "max_height": null,
            "max_width": null,
            "min_height": null,
            "min_width": null,
            "object_fit": null,
            "object_position": null,
            "order": null,
            "overflow": null,
            "overflow_x": null,
            "overflow_y": null,
            "padding": null,
            "right": null,
            "top": null,
            "visibility": null,
            "width": null
          }
        },
        "e5da33bbcb0545f2b064664c4c00c796": {
          "model_module": "@jupyter-widgets/base",
          "model_name": "LayoutModel",
          "model_module_version": "1.2.0",
          "state": {
            "_model_module": "@jupyter-widgets/base",
            "_model_module_version": "1.2.0",
            "_model_name": "LayoutModel",
            "_view_count": null,
            "_view_module": "@jupyter-widgets/base",
            "_view_module_version": "1.2.0",
            "_view_name": "LayoutView",
            "align_content": null,
            "align_items": null,
            "align_self": null,
            "border": null,
            "bottom": null,
            "display": null,
            "flex": null,
            "flex_flow": null,
            "grid_area": null,
            "grid_auto_columns": null,
            "grid_auto_flow": null,
            "grid_auto_rows": null,
            "grid_column": null,
            "grid_gap": null,
            "grid_row": null,
            "grid_template_areas": null,
            "grid_template_columns": null,
            "grid_template_rows": null,
            "height": null,
            "justify_content": null,
            "justify_items": null,
            "left": null,
            "margin": null,
            "max_height": null,
            "max_width": null,
            "min_height": null,
            "min_width": null,
            "object_fit": null,
            "object_position": null,
            "order": null,
            "overflow": null,
            "overflow_x": null,
            "overflow_y": null,
            "padding": null,
            "right": null,
            "top": null,
            "visibility": null,
            "width": "450px"
          }
        },
        "0cf94426439c41bea2ed698648f44e92": {
          "model_module": "@jupyter-widgets/controls",
          "model_name": "SliderStyleModel",
          "model_module_version": "1.5.0",
          "state": {
            "_model_module": "@jupyter-widgets/controls",
            "_model_module_version": "1.5.0",
            "_model_name": "SliderStyleModel",
            "_view_count": null,
            "_view_module": "@jupyter-widgets/base",
            "_view_module_version": "1.2.0",
            "_view_name": "StyleView",
            "description_width": "",
            "handle_color": null
          }
        },
        "6b0f41a59a7043ebb15e0bc0ffb5eb24": {
          "model_module": "@jupyter-widgets/base",
          "model_name": "LayoutModel",
          "model_module_version": "1.2.0",
          "state": {
            "_model_module": "@jupyter-widgets/base",
            "_model_module_version": "1.2.0",
            "_model_name": "LayoutModel",
            "_view_count": null,
            "_view_module": "@jupyter-widgets/base",
            "_view_module_version": "1.2.0",
            "_view_name": "LayoutView",
            "align_content": null,
            "align_items": null,
            "align_self": null,
            "border": null,
            "bottom": null,
            "display": null,
            "flex": null,
            "flex_flow": null,
            "grid_area": null,
            "grid_auto_columns": null,
            "grid_auto_flow": null,
            "grid_auto_rows": null,
            "grid_column": null,
            "grid_gap": null,
            "grid_row": null,
            "grid_template_areas": null,
            "grid_template_columns": null,
            "grid_template_rows": null,
            "height": null,
            "justify_content": null,
            "justify_items": null,
            "left": null,
            "margin": null,
            "max_height": null,
            "max_width": null,
            "min_height": null,
            "min_width": null,
            "object_fit": null,
            "object_position": null,
            "order": null,
            "overflow": null,
            "overflow_x": null,
            "overflow_y": null,
            "padding": null,
            "right": null,
            "top": null,
            "visibility": null,
            "width": null
          }
        }
      }
    }
  },
  "nbformat": 4,
  "nbformat_minor": 5
}