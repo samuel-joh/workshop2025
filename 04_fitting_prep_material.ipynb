{
  "cells": [
    {
      "cell_type": "markdown",
      "metadata": {
        "id": "hoeOqkvjrmUv"
      },
      "source": [
        "<a href=\"https://colab.research.google.com/github/computational-neurology/workshop2025/blob/main/04_fitting_prep_material.ipynb\" target=\"_parent\"><img src=\"https://colab.research.google.com/assets/colab-badge.svg\" alt=\"Open In Colab\"/></a>"
      ]
    },
    {
      "cell_type": "markdown",
      "metadata": {
        "id": "78S34sI4rmUw"
      },
      "source": [
        "## Fitting\n",
        "\n",
        "### Learning goals\n",
        "- explain why model fitting is needed\n",
        "- perform a fitting procedure for a two-node problem\n",
        "- explain appropriate fitting methods for brain networks\n",
        "\n",
        "Imagine you have a dataset and you want to simulate the time series. How do you make sure that the parameters are chosen in such a way that they represent the data best? Let's try out the manual way first."
      ]
    },
    {
      "cell_type": "code",
      "execution_count": null,
      "metadata": {
        "id": "zoBTW7slrmUw"
      },
      "outputs": [],
      "source": [
        "%%capture\n",
        "import sys\n",
        "!{sys.executable} -m pip install git+https://github.com/neurolib-dev/neurolib.git\n",
        "!{sys.executable} -m pip install numpy\n",
        "!{sys.executable} -m pip install matplotlib\n",
        "!{sys.executable} -m pip install nilearn\n",
        "\n",
        "\n",
        "# @title Run this to install dependencies"
      ]
    },
    {
      "cell_type": "code",
      "execution_count": null,
      "metadata": {
        "id": "-735pKQhrmUw"
      },
      "outputs": [],
      "source": [
        "# Let's import all the relevant libraries\n",
        "from neurolib.models.hopf import HopfModel\n",
        "import numpy as np\n",
        "import matplotlib.pyplot as plt\n",
        "from nilearn.connectome import ConnectivityMeasure"
      ]
    },
    {
      "cell_type": "markdown",
      "metadata": {
        "id": "HigQ5xYirmUx"
      },
      "source": [
        "<b>Exercise </b><p>\n",
        "\n",
        "### Fitting different time series\n",
        "\n",
        "You will be given two sets of time series with 2 regions that we created used two different sets of model parameters. You will be given a list of all the parameters used except for one. You have to recreate these time series by adjusting the model parameters G (the coupling parameter) in Model A and Omega (the instrinsic frequency) in Model B. Your goal is to choose the model parameter of both Model A and B in such a way that the time series that you create look as close as possible to the ones you are provided with. The process to find the parameters that were used to generate artificial data is called parameter recovery.\n",
        "\n",
        "You will find the time series for Model A as model_a.npy, and so on. Please first find your own solution and write it down and then compare it with the others and write down the adapted solution after the discussion. In A and B, since there are only two nodes, you can guess the best parameter based on how similar your simulated timeseries are to the empirical ones. In C you should try to fit the resulting functional connectivity matrix.\n",
        "\n",
        "You will be given a range of possible parameters. Try out the best fitting strategy and reflect on how you proceeded. To ensure that the starting point is the same as with the artificial data, please params[\"seed\"] = 42 in your model.\n",
        "\n",
        "## Model parameters Model A:\n",
        "### Known parameters:\n",
        "   \n",
        "      w:  0.7 * np.pi\n",
        "      Sigma_ou: 0.1\n",
        "      Cmat: np.array([[1, 0.02], [0.02, 1]])\n",
        "      Dmat: 0 for each connection\n",
        "      Duration: 50ms\n",
        "\n",
        "### Parameter search for:\n",
        "            \n",
        "      G (between 0.5 and 2.5)\n",
        "\n",
        "## Model parameters Model B:\n",
        "### Known parameters:\n",
        "\n",
        "      G: 0.5\n",
        "      Sigma_ou: 0.1\n",
        "      Cmat: np.array([[1, 0.02], [0.02, 1]])\n",
        "      Dmat: 0 for each connection\n",
        "      Duration: 50ms\n",
        "\n",
        "### Parameter search for:\n",
        "      \n",
        "      Omega (between 0.1 and 1.8)\n",
        "\n",
        "\n",
        "#### Write down your answer here:\n",
        "#### Model A:\n",
        "Group =\n",
        "\n",
        "Own solution for G =\n",
        "\n",
        "Adapted solution for G after discussion =\n",
        "\n",
        "#### Model B:\n",
        "Group =\n",
        "\n",
        "Own solution for Omega =\n",
        "\n",
        "Adapted solution for Omega after discussion =\n",
        "\n",
        "\n",
        "### What was your strategy on finding the right parameter?\n",
        "\n",
        "ANSWER:\n",
        "\n",
        "\n",
        "Rate the efficiency and complexity of the strategy:\n",
        "\n",
        "ANSWER:\n",
        "\n",
        "\n",
        "If you were to program a strategy, how would it look like?\n",
        "\n",
        "ANSWER:\n",
        "\n",
        "\n",
        "How would you adapt the strategy if you had more nodes?\n",
        "\n",
        "ANSWER:\n",
        "<p>\n",
        " -End of exercise-\n",
        "    </div>"
      ]
    },
    {
      "cell_type": "code",
      "execution_count": null,
      "metadata": {
        "id": "Qwzudc2TrmUx"
      },
      "outputs": [],
      "source": [
        "# solution to exercise here:"
      ]
    },
    {
      "cell_type": "markdown",
      "metadata": {
        "id": "dW--EsIZrmUy"
      },
      "source": [
        "## Further reading material\n",
        "### Graph theory\n",
        "Olaf Sporns. Networks of the Brain. MIT Press, 2010\n",
        "Marcus Kaiser. A tutorial on connectome analysis, 2011. https://www.dynamic-connectome.org/pubs/Kaiser2011Neuroimage.pdf\n",
        "\n",
        "### Model fitting\n",
        "A tutorial on model fitting. https://training.incf.org/lesson/model-fitting-i-intro-lecture"
      ]
    }
  ],
  "metadata": {
    "kernelspec": {
      "display_name": "Python 3",
      "language": "python",
      "name": "python3"
    },
    "language_info": {
      "codemirror_mode": {
        "name": "ipython",
        "version": 3
      },
      "file_extension": ".py",
      "mimetype": "text/x-python",
      "name": "python",
      "nbconvert_exporter": "python",
      "pygments_lexer": "ipython3",
      "version": "3.10.11"
    },
    "colab": {
      "provenance": []
    }
  },
  "nbformat": 4,
  "nbformat_minor": 0
}