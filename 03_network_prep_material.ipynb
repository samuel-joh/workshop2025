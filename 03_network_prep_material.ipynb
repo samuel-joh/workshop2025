{
  "cells": [
    {
      "cell_type": "markdown",
      "metadata": {
        "id": "view-in-github",
        "colab_type": "text"
      },
      "source": [
        "<a href=\"https://colab.research.google.com/github/samuel-joh/workshop2025/blob/main/03_network_prep_material.ipynb\" target=\"_parent\"><img src=\"https://colab.research.google.com/assets/colab-badge.svg\" alt=\"Open In Colab\"/></a>"
      ]
    },
    {
      "cell_type": "markdown",
      "id": "c56937e4",
      "metadata": {
        "id": "c56937e4"
      },
      "source": [
        "<a href=\"https://colab.research.google.com/github/computational-neurology/workshop2025/blob/main/03_network_prep_material.ipynb\" target=\"_parent\"><img src=\"https://colab.research.google.com/assets/colab-badge.svg\" alt=\"Open In Colab\"/></a>"
      ]
    },
    {
      "cell_type": "markdown",
      "id": "C3l4TSdgCvGj",
      "metadata": {
        "id": "C3l4TSdgCvGj"
      },
      "source": [
        "## Biophysical versus Phenomenological models of brain activity"
      ]
    },
    {
      "cell_type": "markdown",
      "id": "s-GCLzXqsizX",
      "metadata": {
        "id": "s-GCLzXqsizX"
      },
      "source": [
        "Broadly speaking, there are two categories of neural mass models: biophysical and phenomenological.\n",
        "\n",
        "**Biophysical Models**\n",
        "\n",
        "Biophysical modeling is an approach that aims to capture the biological details of neural populations. This means that biophysical models are grounded in the biophysical properties of neurons, such as ion channel dynamics, neurotransmitter kinetics, and synaptic plasticity. Biophysical models often incorporate detailed representations of biological entities, such as conductances, which correspond to the flow of ions across neuronal membranes.\n",
        "\n",
        "**Phenomenological Models**\n",
        "\n",
        "In contrast to biophysical modeling, phenomenological modeling takes a more abstract and high-level approach. Instead of focusing on the detailed biophysical mechanisms, phenomenological models aim to capture the qualitative behavior and emergent properties of neural systems. This means that we have recordings of empirical data and we have some mathematical equations that try to capture these recordings as best as possible. These models often use mathematical frameworks and computational techniques to describe and simulate the observed phenomena without necessarily incorporating the underlying biological details.\n",
        "\n",
        "*E.g., You can approximate the hourly temperature over the course of a month with a sinusoidal wave, where the temperature will be higher during the day and lower during the night. You have no idea why, but this still allows you to understand some things (like maybe you have higher excursion between day and night in a place i.e., the desert, compared to another). Here, our model provides a mathematical description of the observed phenomenon (periodic temperature changes) without explaining the reasons behind it, such as the Earth's rotation, atmospheric dynamics, or thermodynamics.*\n",
        "\n",
        "Another good example to understand these models is the study of bird flocks (see video). For example, in the video you can see how each bird moves on its own, but also the flock itself shows some collective movement. Phenomenologically, we could study for example the centroid of the bird flock and its dispersion and this would give us many insights regarding the collective behavior of these animals.\n",
        "\n"
      ]
    },
    {
      "cell_type": "code",
      "execution_count": null,
      "id": "48083b68",
      "metadata": {
        "id": "48083b68"
      },
      "outputs": [],
      "source": [
        "# @title Run to show video, before running make sure your audio is off\n",
        "from IPython.display import IFrame\n",
        "\n",
        "IFrame(src=\"https://www.youtube.com/embed/V4f_1_r80RY?si=b48bVmH2RKoHiOnS&amp;clip=UgkxXnfR53n0TQS9bM4YAsiCLUE1evhLMrTr&amp;clipt=EM2GARjk-wE\", width=660, height=315)\n"
      ]
    },
    {
      "cell_type": "markdown",
      "id": "n1p-wdAbxf8V",
      "metadata": {
        "id": "n1p-wdAbxf8V"
      },
      "source": [
        "<div class=\"alert alert-block alert-success\">\n",
        "<b> Exercise </b><p>\n",
        "\n",
        "Try to think about some pros and cons for each group of models, and write them down. Then, scroll down below to compare with what you've written down. Ours are just some examples, so your ideas might be more than valid even though they are not in our list! Feel free to tell us at the beginning of the following lecture if you came up with something else than what we had written!"
      ]
    },
    {
      "cell_type": "markdown",
      "id": "8f805364",
      "metadata": {
        "id": "8f805364"
      },
      "source": [
        "*Write down your pros and cons of different model types*.....\n",
        "\n",
        "[Text here]"
      ]
    },
    {
      "cell_type": "markdown",
      "id": "DQ7bt2BSU7e-",
      "metadata": {
        "id": "DQ7bt2BSU7e-"
      },
      "source": [
        "## Pros and Cons"
      ]
    },
    {
      "cell_type": "markdown",
      "id": "MgMTdgAHUQ_o",
      "metadata": {
        "id": "MgMTdgAHUQ_o"
      },
      "source": [
        "**Pros of biophysical models**:\n",
        "The strength of biophysical modeling lies in its ability to provide a mechanistic understanding of neural processes by directly linking them to the underlying biological components. These models can help researchers explore how specific biophysical parameters influence neural behavior and test hypotheses about the role of different cellular and molecular mechanisms in shaping neural activity.\n",
        "\n",
        "**Cons of biophysical models**:\n",
        "The main downside of these models is that the more biological realism comes with a higher number of coupled differential equations to be solved, up to ~thousands for each neuron (e.g., each type of ion channel should have its own equation, then equations for ion channels on dendrites are different depending on the morphology, and so on). Even with massive computing power and parallelism, this currently poses severe technical limitations on the number of neurons we can simulate at the highest level of biological realism (currently ~ some squared cm). Nonetheless we can use simplified models where we describe with just a couple of differential equations the activity of ~millions of neurons, allowing us to simulate whole-brain activity.\n",
        "\n",
        "**Pros of phenomenological models**:\n",
        "Phenomenological models are particularly useful when the precise biological mechanisms are not well understood or when the goal is to study the collective behavior of large-scale neural networks. These models can provide insights into the computational principles and information processing capabilities of neural systems, without being constrained by the complexities of biological details. This allows to run several modeling simulations at a large-scale in many individuals, which is currently much more computationally expensive with biophysically detailed models\n",
        "\n",
        "**Cons of phenomenological models**:\n",
        "Being phenomenological, these models do not allow us to delve into the molecular, biophysical and cellular mechanisms. This is a great limitation if you want to know exactly what to change in order to achieve a particular state and how to do it.\n",
        "\n",
        "\n",
        "While biophysical and phenomenological modeling approaches may seem distinct, they are often complementary in computational neuroscience and many models share some degree of both approaches. Biophysical models can inform and constrain phenomenological models by providing a biological foundation and validating the assumptions made in the abstract models. Conversely, phenomenological models can guide the development of biophysical models by identifying relevant phenomena and suggesting potential mechanisms to be explored."
      ]
    },
    {
      "cell_type": "code",
      "execution_count": null,
      "id": "d7b1ac7c",
      "metadata": {
        "cellView": "form",
        "id": "d7b1ac7c"
      },
      "outputs": [],
      "source": [
        "%%capture\n",
        "import sys\n",
        "!{sys.executable} -m pip install git+https://github.com/neurolib-dev/neurolib.git\n",
        "# @title Run this to install dependencies"
      ]
    },
    {
      "cell_type": "markdown",
      "id": "tJFdZ3s4Xm04",
      "metadata": {
        "id": "tJFdZ3s4Xm04"
      },
      "source": [
        "# Coupled Kuramoto Model\n"
      ]
    },
    {
      "cell_type": "code",
      "execution_count": null,
      "id": "hfuy2se-uMzc",
      "metadata": {
        "cellView": "form",
        "id": "hfuy2se-uMzc"
      },
      "outputs": [],
      "source": [
        "# @title Run to show video of coupled oscillators\n",
        "from IPython.display import IFrame\n",
        "\n",
        "IFrame(src=\"https://www.youtube.com/embed/T58lGKREubo?si=sYdgFrInHaz0yPEL\", width=560, height=315)\n"
      ]
    },
    {
      "cell_type": "markdown",
      "id": "7c7182fb",
      "metadata": {
        "id": "7c7182fb"
      },
      "source": [
        "In the video you can see how oscillators behave when they are connected. What do you notice? How does the movement of each pendulum start with respect to others? How does it end?"
      ]
    },
    {
      "cell_type": "code",
      "execution_count": null,
      "id": "st460-YacQfP",
      "metadata": {
        "id": "st460-YacQfP"
      },
      "outputs": [],
      "source": [
        "# This is the same as the code you worked on during class\n",
        "\n",
        "import numpy as np\n",
        "import matplotlib.pyplot as plt\n",
        "# Some useful functions are provided here\n",
        "import neurolib.utils.functions as func\n",
        "# Let's import the Kuramoto model\n",
        "from neurolib.models.kuramoto import KuramotoModel\n",
        "\n",
        "# Initialize the Kuramoto model for a single node\n",
        "model = KuramotoModel()\n",
        "# Set the duration of your simulation\n",
        "model.params['duration'] = 100\n",
        "# Set the intrinsic frequency\n",
        "model.params['omega'] = np.array([.5 * np.pi])\n",
        "# Set the noise\n",
        "model.params['sigma_ou'] = 0\n",
        "# Let's run the model!\n",
        "model.run()\n",
        "# Let's look at the outputs of the model\n",
        "print(model.outputs.keys())"
      ]
    },
    {
      "cell_type": "markdown",
      "id": "R4BwCX1ZkhR9",
      "metadata": {
        "id": "R4BwCX1ZkhR9"
      },
      "source": [
        "The model outputs a numpy array containing the times of our simulation and the corresponding phases."
      ]
    },
    {
      "cell_type": "code",
      "execution_count": null,
      "id": "9URR19D8kbsI",
      "metadata": {
        "id": "9URR19D8kbsI"
      },
      "outputs": [],
      "source": [
        "# Get the theta and cap it to only 2 pi ()\n",
        "theta = model['theta'].T\n",
        "theta_capped = np.mod(theta, 2*np.pi) # cap theta to [0, 2*pi]\n",
        "# Plot the phases over time\n",
        "plt.figure(figsize=(5,5))\n",
        "plt.plot(model.t, theta_capped)\n",
        "plt.xlabel(\"Time\")\n",
        "plt.ylabel(\"Theta\")\n",
        "plt.yticks(np.arange(0, 2*np.pi+0.1, np.pi/2), [ r\"$0$\", r\"$\\pi/2$\", r\"$\\pi$\", r\"$3/4\\pi$\", r\"$2\\pi$\",])# modify y-axis ticks to be in multiples of pi\n",
        "plt.show()"
      ]
    },
    {
      "cell_type": "code",
      "execution_count": null,
      "id": "JUqMnuK5lV8-",
      "metadata": {
        "cellView": "form",
        "id": "JUqMnuK5lV8-"
      },
      "outputs": [],
      "source": [
        "#@title Run this cell to enable the widget\n",
        "from ipywidgets import interact, FloatSlider\n",
        "# Function to run the model and plot the results\n",
        "def run_kuramoto_model(frequency=0.5*np.pi, noise=0):\n",
        "    model = KuramotoModel()\n",
        "    model.params['duration'] = 100\n",
        "    model.params['omega'] = np.array([frequency])\n",
        "    model.params['sigma_ou'] = noise\n",
        "    model.run()\n",
        "    plt.plot(model.outputs['t'], model.outputs['theta'].T)\n",
        "    plt.title('Kuramoto Model Output')\n",
        "    plt.xlabel('Time')\n",
        "    plt.ylabel('Theta')\n",
        "    plt.show()\n",
        "\n",
        "# Create interactive widgets for frequency and noise\n",
        "frequency_slider = FloatSlider(min=0, max=np.pi, step=0.1, value=0.5*np.pi, description='Frequency')\n",
        "noise_slider = FloatSlider(min=0, max=2, step=0.1, value=0, description='Noise')\n",
        "\n",
        "# Use the interact function to update the model based on slider values\n",
        "interact(run_kuramoto_model, frequency=frequency_slider, noise=noise_slider)"
      ]
    },
    {
      "cell_type": "markdown",
      "id": "nuSzsyScsq27",
      "metadata": {
        "id": "nuSzsyScsq27"
      },
      "source": [
        "Now we are going to explore the role of coupling. In this scenario we have several oscillators connected to each other. Each oscillator starts with its own frequency and then we will see how they behave over time."
      ]
    },
    {
      "cell_type": "markdown",
      "id": "qHDqtoNSx1fX",
      "metadata": {
        "id": "qHDqtoNSx1fX"
      },
      "source": [
        "First, let's see what happens when the oscillators are not coupled. What do you see?"
      ]
    },
    {
      "cell_type": "code",
      "execution_count": null,
      "id": "iHhR6xHCvF7y",
      "metadata": {
        "id": "iHhR6xHCvF7y"
      },
      "outputs": [],
      "source": [
        "# setting parameters\n",
        "N = 6\n",
        "# cmat is the structural connectivity matrix (here we start with a fully\n",
        "# connected network)\n",
        "cmat = np.ones((N, N)) # fully connected network\n",
        "# dmat is the delay matrix, at the moment we consider instantaneous interactions\n",
        "# between brain regions, so no delays\n",
        "dmat = np.zeros((N,N)) # no delays\n",
        "\n",
        "# Let's create a network model!\n",
        "network_model = KuramotoModel(Cmat=cmat, Dmat=dmat)\n",
        "# Set the duration of the simulation\n",
        "network_model.params['duration'] = 50\n",
        "# Set the intrinsic frequency\n",
        "network_model.params['omega'] = np.random.rand((N)) * 0.25 * np.pi\n",
        "# Let's start without any noise\n",
        "network_model.params['sigma_ou'] = 0.\n",
        "# For now our oscillators are uncoupled, so K = 0\n",
        "network_model.params['k'] = 0\n",
        "network_model.run()\n",
        "\n",
        "theta = network_model['theta'].T\n",
        "# cap the phase to be between 0 and 2pi\n",
        "theta_capped = np.mod(theta, 2*np.pi)\n",
        "\n",
        "# set up the figure\n",
        "fig, ax = plt.subplots(1, 1, figsize=(10, 4))\n",
        "\n",
        "plt.plot(network_model.t, theta_capped)\n",
        "plt.xlabel(\"Time\")\n",
        "plt.ylabel(\"Theta\")\n",
        "plt.yticks(np.arange(0, 2*np.pi+0.1, np.pi/2), [ r\"$0$\", r\"$\\pi/2$\", r\"$\\pi$\", r\"$3/4\\pi$\", r\"$2\\pi$\",])# modify y-axis ticks to be in multiples of pi\n",
        "plt.show()"
      ]
    },
    {
      "cell_type": "markdown",
      "id": "fo3hFdWnVzPo",
      "metadata": {
        "id": "fo3hFdWnVzPo"
      },
      "source": [
        "<div class=\"alert alert-block alert-success\">\n",
        "<b> Exercise </b><p>\n",
        "\n",
        "Change the coupling and noise to see what happens to the phases. What happens to the signals when you increase coupling? If you leave the coupling constant and increase noise, what happens? Does an increase in noise facilitate coupling or not?\n",
        "\n",
        "Write down your answer...\n",
        "<p>\n"
      ]
    },
    {
      "cell_type": "code",
      "execution_count": null,
      "id": "OAPuDixqU1q3",
      "metadata": {
        "cellView": "form",
        "id": "OAPuDixqU1q3"
      },
      "outputs": [],
      "source": [
        "#@title Run this cell to enable the widget\n",
        "# Function to run the model and plot the results\n",
        "def run_kuramoto_network_model(coupling, noise=0):\n",
        "  # Let's create a network model!\n",
        "  network_model = KuramotoModel(Cmat=cmat, Dmat=dmat)\n",
        "  # Set the duration of the simulation\n",
        "  network_model.params['duration'] = 50\n",
        "  # Set the intrinsic frequencye\n",
        "  network_model.params['omega'] = np.ones((N)) * 0.25 * np.pi\n",
        "  # Let's start without any noise\n",
        "  network_model.params['sigma_ou'] = noise\n",
        "  # For now our oscillators are uncoupled, so K = 0\n",
        "  network_model.params['k'] = coupling\n",
        "  network_model.run()\n",
        "  plt.plot(network_model.outputs['t'], network_model.outputs['theta'].T)\n",
        "  plt.title('Kuramoto Model Output')\n",
        "  plt.xlabel('Time')\n",
        "  plt.ylabel('Theta')\n",
        "  plt.yticks(np.arange(0, 2*np.pi+0.1, np.pi/2), [ r\"$0$\", r\"$\\pi/2$\", r\"$\\pi$\", r\"$3/4\\pi$\", r\"$2\\pi$\",])# modify y-axis ticks to be in multiples of pi\n",
        "  plt.show()\n",
        "\n",
        "# Create interactive widgets for frequency and noise\n",
        "coupling_slider = FloatSlider(min=0, max=1, step=0.01, value=0, description='Coupling')\n",
        "noise_slider = FloatSlider(min=0, max=2, step=0.1, value=0, description='Noise')\n",
        "\n",
        "# Use the interact function to update the model based on slider values\n",
        "interact(run_kuramoto_network_model, coupling=coupling_slider, noise=noise_slider)"
      ]
    },
    {
      "cell_type": "markdown",
      "id": "43429a50",
      "metadata": {
        "id": "43429a50"
      },
      "source": [
        "Below you will find some bonus material on a pretty cool model, the so-called Hopf model. After the bonus, you will find further reading material/videos for your reference, which might also be useful to consider for your projects."
      ]
    },
    {
      "cell_type": "markdown",
      "id": "FXxY-GxApCwb",
      "metadata": {
        "id": "FXxY-GxApCwb"
      },
      "source": [
        "## Bonus: Normal form of a supercritical Hopf bifurcation"
      ]
    },
    {
      "cell_type": "markdown",
      "id": "GZHb-kv-mi5x",
      "metadata": {
        "id": "GZHb-kv-mi5x"
      },
      "source": [
        "This Bonus will explore a phenomenological non-linear model of coupled oscillators knowns as the **Stuart-Landau model**, commonly referred to in the neuroscience context as the **Hopf model** (more precisely as the *normal form of a supercritical Hopf bifurcation*). This model is a canonical model to study systems of coupled oscillators for which both the phase and the amplitude interact. In this model, as nonlinearities increase, isolated nodes transit through two qualitatively different dynamics: from damped oscillations to self-sustained oscillations. Today we will focus on these dynamics. The dynamics of a single uncoupled node $i$ is given by the following differential equation, with complex variable $z$ as the state variable:\n",
        "\n",
        "$$\\dot{z}_{i} = (a_{i} + i\\omega_{i})z_{i} - z_{i} |z_{i}^2| $$\n",
        "\n",
        "\n",
        "The real part of $z$ is what we measure empirically, its imaginary part serves only for the equations, we can then write:\n",
        "\n",
        "$$\\dot{x}_{i} = (a_{i} - x_{i}^{2} - y_{i}^{2})x_{i} - \\omega_{i}y_{i}$$\n",
        "\n",
        "$$\\dot{y}_{i} = (a_{i} - x_{i}^{2} - y_{i}^{2})y_{i} + {\\omega}{i}x_{i} $$\n",
        "\n",
        "$a$ is known as a bifurcation parameter and $\\omega$ is the natural frequency of oscillation.\n",
        "\n",
        "- If $a<0$ the system is characterised by a single stable point and\n",
        "- if $a>0$ a limit cycle emerges and the system oscillates harmonically, with frequency $\\omega$.\n",
        "- The bifurcation point, is thus at $a=0$.\n",
        "\n",
        "A bifurcation point is a point where a small change in system's parameters leads to big changes in the behavior (e.g., transition from stable point to oscillatory behavior). Supercritical means that a pair of stable point is created and exists after the bifurcation. \"Hopf\" is the name of the type of the bifurcation. Normal form means that the bifurcation occurs at 0.\n"
      ]
    },
    {
      "cell_type": "markdown",
      "id": "bvAV_cp3GY3y",
      "metadata": {
        "id": "bvAV_cp3GY3y"
      },
      "source": [
        "<div class=\"alert alert-block alert-success\">\n",
        "<b> Bonus </b><p>\n",
        "\n",
        "Implement the normal form of a supercritical Hopf bifurcation in the following function."
      ]
    },
    {
      "cell_type": "code",
      "execution_count": null,
      "id": "-IFalHQ_pXMx",
      "metadata": {
        "id": "-IFalHQ_pXMx"
      },
      "outputs": [],
      "source": [
        "# Parameters\n",
        "a = -0.1  # Bifurcation parameter\n",
        "omega = 1  # Angular frequency\n",
        "\n",
        "# Initial conditions\n",
        "x0 = 0.1\n",
        "y0 = 0.1\n",
        "\n",
        "# Time span and step size\n",
        "t_start = 0.0\n",
        "t_end = 100.0\n",
        "dt = 0.01\n",
        "t = np.arange(t_start, t_end, dt)\n",
        "\n",
        "# Supercritical Hopf bifurcation normal form\n",
        "def hopf_normal_form(x, y, a, omega):\n",
        "    # Your code here\n",
        "    # dx_dt = ...\n",
        "    # dy_dt = ...\n",
        "\n",
        "\n",
        "    return dx_dt, dy_dt"
      ]
    },
    {
      "cell_type": "markdown",
      "id": "deF2izp2G_oq",
      "metadata": {
        "id": "deF2izp2G_oq"
      },
      "source": [
        "<div class=\"alert alert-block alert-success\">\n",
        "<b> Bonus </b><p>\n",
        "\n",
        "Now perform the Euler Integration as we did in class."
      ]
    },
    {
      "cell_type": "code",
      "execution_count": null,
      "id": "Iwy0JcsVyRLs",
      "metadata": {
        "id": "Iwy0JcsVyRLs"
      },
      "outputs": [],
      "source": [
        "x = np.zeros_like(t)\n",
        "y = np.zeros_like(t)\n",
        "x[0] = x0\n",
        "y[0] = y0\n",
        "\n",
        "for i in range(1, len(t)):\n",
        "    dx, dy = hopf_normal_form(x[i-1], y[i-1], a, omega)\n",
        "    # x[i] = ...\n",
        "    # y[i] = ..."
      ]
    },
    {
      "cell_type": "code",
      "execution_count": null,
      "id": "UdXH5TAh_SIY",
      "metadata": {
        "cellView": "form",
        "id": "UdXH5TAh_SIY"
      },
      "outputs": [],
      "source": [
        "#@title Unhide to copy the code if you are really stuck\n",
        "# dx_dt = (a - x**2 - y**2) * x - omega * y\n",
        "# dy_dt = (a - x**2 - y**2) * y + omega * x\n",
        "# x[i] = x[i-1] + dx * dt\n",
        "# y[i] = y[i-1] + dy * dt"
      ]
    },
    {
      "cell_type": "markdown",
      "id": "L8JPN4x0IUoQ",
      "metadata": {
        "id": "L8JPN4x0IUoQ"
      },
      "source": [
        "<div class=\"alert alert-block alert-success\">\n",
        "<b> Bonus </b><p>\n",
        "\n",
        "Finally, let's try to plot the phase plane (on the left) and the evolution of the signal x over time. Remember the difference between the two!"
      ]
    },
    {
      "cell_type": "code",
      "execution_count": null,
      "id": "HvhZ9d-wHiOi",
      "metadata": {
        "id": "HvhZ9d-wHiOi"
      },
      "outputs": [],
      "source": [
        "# Plotting\n",
        "fig, axs = plt.subplots(nrows=1, ncols=2, figsize = (8,4))\n",
        "#axs[0].plot(...)\n",
        "axs[0].plot(x, y)\n",
        "axs[0].set_xlabel('x')\n",
        "axs[0].set_ylabel('y')\n",
        "axs[1].plot(t, x)\n",
        "# axs[1].plot(...)\n",
        "axs[1].set_xlabel('t')\n",
        "axs[1].set_ylabel('x')\n",
        "\n",
        "fig.suptitle('Supercritical Hopf Bifurcation')\n",
        "fig.tight_layout()\n",
        "fig.show()"
      ]
    },
    {
      "cell_type": "markdown",
      "id": "8zPpGL13JFD6",
      "metadata": {
        "id": "8zPpGL13JFD6"
      },
      "source": [
        "<div class=\"alert alert-block alert-success\">\n",
        "<b> Bonus </b><p>\n",
        "\n",
        "Is the system going to a stable point or spiraling outwards? How do you know? How can you check?"
      ]
    },
    {
      "cell_type": "markdown",
      "id": "U0sB2FOZJSmi",
      "metadata": {
        "id": "U0sB2FOZJSmi"
      },
      "source": [
        "<div class=\"alert alert-block alert-success\">\n",
        "<b> Bonus </b><p>\n",
        "\n",
        "What happens if you add Gaussian noise to x[i] and y[i]?"
      ]
    },
    {
      "cell_type": "markdown",
      "id": "KTMvX8HgMJ2s",
      "metadata": {
        "id": "KTMvX8HgMJ2s"
      },
      "source": [
        "After having created our simulation from scratch, we will now use the faster Neurolib to perform the simulation. First, let's recreate the same type of simulations (note Neurolib uses random initial conditions, so it won't be exactly the same, but the behavior is)"
      ]
    },
    {
      "cell_type": "code",
      "execution_count": null,
      "id": "OHJtFVc2p_tx",
      "metadata": {
        "id": "OHJtFVc2p_tx"
      },
      "outputs": [],
      "source": [
        "# Let's import the Hopf model\n",
        "from neurolib.models.hopf import HopfModel\n",
        "\n",
        "model = HopfModel()\n",
        "model.params['duration'] = 100\n",
        "model.params['sigma_ou'] = 0.00\n",
        "model.params['a'] = -0.1\n",
        "model.params[\"w\"] = 1\n",
        "\n",
        "model.run()\n",
        "\n",
        "fig, axs = plt.subplots(nrows=1, ncols=2, figsize = (8,4))\n",
        "axs[0].plot(model.x.T, model.y.T)\n",
        "axs[0].set_xlabel('x')\n",
        "axs[0].set_ylabel('y')\n",
        "axs[1].plot(model.t, model.x.T)\n",
        "axs[1].set_xlabel('t')\n",
        "axs[1].set_ylabel('x')\n",
        "fig.suptitle('Supercritical Hopf Bifurcation')\n",
        "fig.tight_layout()"
      ]
    },
    {
      "cell_type": "markdown",
      "id": "FRzKqgC1xiwd",
      "metadata": {
        "id": "FRzKqgC1xiwd"
      },
      "source": [
        "<div class=\"alert alert-block alert-success\">\n",
        "<b> Bonus </b><p>\n",
        "\n",
        "Use the following widget to see how the activity changes in relation to the bifurcation parameters and intrinsic frequency. What do you see? When does the behavior change?"
      ]
    },
    {
      "cell_type": "code",
      "execution_count": null,
      "id": "rvDVdpmnrLkO",
      "metadata": {
        "cellView": "form",
        "id": "rvDVdpmnrLkO"
      },
      "outputs": [],
      "source": [
        "from ipywidgets import interact, FloatSlider\n",
        "\n",
        "# Function to update plot\n",
        "def update_plot(bif_param, frequency):\n",
        "    model.params['a'] = bif_param\n",
        "    model.params['w'] = frequency\n",
        "    model.run()\n",
        "    plt.figure(figsize=(4, 4))\n",
        "    plt.plot(model.t, model.x.T, c='k', lw=2)\n",
        "    plt.xlabel(\"t [ms]\")\n",
        "    plt.ylabel(\"Activity\")\n",
        "    plt.title(f\"$a$: {bif_param}\\n $\\omega$: {frequency}\")\n",
        "    plt.grid(True)\n",
        "    plt.show()\n",
        "\n",
        "# Initialize model\n",
        "model = HopfModel()\n",
        "model.params['duration'] = 1.0 * 1000\n",
        "model.params['sigma_ou'] = 0.0 # Noise\n",
        "model.params['w'] = .1\n",
        "\n",
        "model.run()\n",
        "\n",
        "# Create interactive widget\n",
        "interact(update_plot, bif_param=FloatSlider(min=-0.3, max=0.3, step=0.01, value=0.2),frequency=FloatSlider(min=0.0, max=0.3, step=0.01, value=0.1));\n",
        "# @title Run this to enable the interactive widget\n"
      ]
    },
    {
      "cell_type": "code",
      "execution_count": null,
      "id": "s0WjmocOqN8I",
      "metadata": {
        "cellView": "form",
        "id": "s0WjmocOqN8I"
      },
      "outputs": [],
      "source": [
        "model = HopfModel()\n",
        "model.params['duration'] = 2.0*1000\n",
        "\n",
        "max_x = []\n",
        "min_x = []\n",
        "# these are the different input values that we want to scan\n",
        "a_s = np.linspace(-2, 2, 50)\n",
        "for a in a_s:\n",
        "    model.params['a'] = a\n",
        "    model.run()\n",
        "    # we add the maximum and the minimum of the last second of the\n",
        "    # simulation to a list\n",
        "    max_x.append(np.max(model.x[0, -int(1000/model.params['dt']):]))\n",
        "    min_x.append(np.min(model.x[0, -int(1000/model.params['dt']):]))\n",
        "\n",
        "plt.figure(figsize=(6,6))\n",
        "plt.plot(a_s, max_x, c='k', lw = 2)\n",
        "plt.plot(a_s, min_x, c='k', lw = 2)\n",
        "plt.title(\"Bifurcation diagram of the Hopf oscillator\")\n",
        "plt.xlabel(\"a\")\n",
        "plt.ylabel(\"Min / max x\")\n",
        "# @title Run this to plot the bifurcation diagram and see why it is called a bifurcation"
      ]
    },
    {
      "cell_type": "markdown",
      "id": "mYq4KBvomAVX",
      "metadata": {
        "id": "mYq4KBvomAVX"
      },
      "source": [
        "## Further material for your future reference\n",
        "\n",
        "*Visual understanding of differential equations and Euler integration*\n",
        "\n",
        "[Visual introduction to differential equations](https://www.youtube.com/watch?v=p_di4Zn4wz4)\n",
        "\n",
        "[Euler Integration Scheme](https://www.youtube.com/watch?v=q87L9R9v274)\n",
        "\n",
        "___\n",
        "\n",
        "*Introduction to WBM*\n",
        "\n",
        "- OHBM 2024 Educational course on Connectome-based models of whole-brain dynamics. First lecture [here](https://www.youtube.com/watch?v=7xfQ2lcbZUA&t=1077s).\n",
        "\n",
        "- C. Cakan, N. Jajcay, K. Obermayer, neurolib: A Simulation Framework for Whole-Brain Neural Mass Modeling. Cogn Comput (2021). https://doi.org/10.1007/s12559-021-09931-9.\n",
        "\n",
        "- Griffiths, J.D., Bastiaens, S.P., Kaboodvand, N. (2022). Whole-Brain Modelling: Past, Present, and Future. In: Giugliano, M., Negrello, M., Linaro, D. (eds) Computational Modelling of the Brain. Advances in Experimental Medicine and Biology(), vol 1359. Springer, Cham. https://doi.org/10.1007/978-3-030-89439-9_13 (*general concepts + history, it should be available through RUB online*)\n",
        "\n",
        "- Breakspear, M., Heitmann, S., Daffertshofer, A., (2010). Generative models of cortical oscillations: neurobiological implications of the Kuramoto model, Fron Hum Neuro, https://www.frontiersin.org/journals/human-neuroscience/articles/10.3389/fnhum.2010.00190/full\n",
        "\n",
        "- Models of the Mind: How Physics, Engineering and Mathematics Have Shaped Our Understanding of the Brain by Grace Lindsay (this is a interesting entry-level book on the history of computational neuroscience and how mathematical models have been used to explore properties of the brain)\n",
        "\n",
        "___\n",
        "*Dynamical systems in WBM*\n",
        "\n",
        "- M. Breakspear, Dynamic models of large-scale brain activity. Nat Neurosci 20, 340–352 (2017) (*general principles*)\n",
        "\n",
        "- P. Sanz-Leon, S. A. Knock, A. Spiegler, V. K. Jirsa, Mathematical framework for large-scale brain network modeling in The Virtual Brain. NeuroImage 111, 385–430 (2015) (*all the math we did not cover today is presented here*)\n",
        "\n",
        "\n",
        "___\n",
        "*Criticality*\n",
        "\n",
        "- J. O’Byrne, K. Jerbi, How critical is brain criticality? Trends in Neurosciences 45, 820–837 (2022).\n",
        "\n",
        "- L. Cocchi, L. L. Gollo, A. Zalesky, M. Breakspear, Criticality in the brain: A synthesis of neurobiology, models and cognition. Progress in Neurobiology 158, 132–152 (2017).\n",
        "\n",
        "___\n",
        "*Moving towards clinical applications*\n",
        "\n",
        "- G. Deco, V. K. Jirsa, A. R. McIntosh, Resting brains never rest: computational insights into potential cognitive architectures. Trends Neurosci 36, 268–274 (2013).\n",
        "\n",
        "- G. Deco, M. L. Kringelbach, Great Expectations: Using Whole-Brain Computational Connectomics for Understanding Neuropsychiatric Disorders. Neuron 84, 892–905 (2014).\n",
        "\n",
        "- X. Kobeleva, et al., Advancing brain network models to reconcile functional neuroimaging and clinical research. NeuroImage: Clinical 36, 103262 (2022)."
      ]
    },
    {
      "cell_type": "markdown",
      "id": "ti9f4LPcpi_t",
      "metadata": {
        "id": "ti9f4LPcpi_t"
      },
      "source": [
        "# Acknowledgments\n",
        "Parts of this tutorial were taken from [Neuromatch Academy](https://compneuro.neuromatch.io/tutorials/intro.html). Their course on Computational Neuroscience delves into many more details on dynamical systems and biophysically detailed neural mass models. If you are interested in these topics, it is free to follow at your own pace.\n",
        "\n",
        "[TVB](https://wiki.ebrains.eu/bin/view/Collabs/documentation/tutorials/The%20Virtual%20Brain/) also offers some more tutorials. Further tutorials  (credits to Davide Momi, Joana Cabral and John Griffiths) can be found [here](https://griffithslab.github.io/OHBM-whole-brain-modelling-course/).\n",
        "\n"
      ]
    }
  ],
  "metadata": {
    "colab": {
      "provenance": [],
      "include_colab_link": true
    },
    "kernelspec": {
      "display_name": "Python 3 (ipykernel)",
      "language": "python",
      "name": "python3"
    },
    "language_info": {
      "codemirror_mode": {
        "name": "ipython",
        "version": 3
      },
      "file_extension": ".py",
      "mimetype": "text/x-python",
      "name": "python",
      "nbconvert_exporter": "python",
      "pygments_lexer": "ipython3",
      "version": "3.11.0"
    }
  },
  "nbformat": 4,
  "nbformat_minor": 5
}