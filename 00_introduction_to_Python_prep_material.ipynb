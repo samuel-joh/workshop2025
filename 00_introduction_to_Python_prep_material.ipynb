{
  "cells": [
    {
      "cell_type": "markdown",
      "metadata": {
        "id": "view-in-github",
        "colab_type": "text"
      },
      "source": [
        "<a href=\"https://colab.research.google.com/github/samuel-joh/Computational-Neurology/blob/main/00_introduction_to_Python_prep_material.ipynb\" target=\"_parent\"><img src=\"https://colab.research.google.com/assets/colab-badge.svg\" alt=\"Open In Colab\"/></a>"
      ]
    },
    {
      "cell_type": "markdown",
      "metadata": {
        "id": "o8d-nq83hMMX"
      },
      "source": [
        "# Super crash course in Python"
      ]
    },
    {
      "cell_type": "code",
      "execution_count": null,
      "metadata": {
        "id": "5RkVng7xhYG7"
      },
      "outputs": [],
      "source": [
        "! pip install numpy\n",
        "! pip install pandas\n",
        "! pip install matplotlib"
      ]
    },
    {
      "cell_type": "markdown",
      "metadata": {
        "id": "yCh4XQ20K96o"
      },
      "source": [
        "# A preliminary note on the use of LLMs"
      ]
    },
    {
      "cell_type": "markdown",
      "metadata": {
        "id": "5Swv-HlHK96o"
      },
      "source": [
        "All the exercises are ungraded and are just there for you to try things out and learn. You can of course copy/paste them into an LLM and solve them, but it won't be helpful for you at this stage. You can of course ask LLM to explain in greater depths specific commands, but still try to write them yourself in the exercises! LLMs will become useful to write code during your programming journey, but you first need to understand the core concepts of Python, which will take quite some time! So, please try the exercises and make as many mistakes as possible! The cool thing about programming is that you can just try things out until they work, which you can see immediately!"
      ]
    },
    {
      "cell_type": "markdown",
      "metadata": {
        "id": "QHtdJFp8hckV"
      },
      "source": [
        "## Part 0: Introduction to Jupyter Notebooks\n",
        "\n",
        "### What is a Jupyter Notebook?\n",
        "A Jupyter Notebook is an open-source web application that allows you to create and share documents that contain live code, equations, visualizations, and narrative text. It's a great tool for data analysis, scientific research, and learning to code.\n",
        "\n",
        "### Types of Cells\n",
        "There are mainly two types of cells in Jupyter Notebooks:\n",
        "1. **Code cells**: These cells contain code that can be executed.\n",
        "2. **Markdown cells**: These cells contain text formatted using Markdown, a lightweight markup language that allows you to format the text in various ways.\n",
        "\n",
        "### Creating and Running Cells\n",
        "\n",
        "- **Creating a Code Cell**: To create a new code cell, click on the \"+\" button in the toolbar or use the keyboard shortcut `B` to insert a cell below the current cell. Type your code in the new cell and press `Shift + Enter` to run it.\n",
        "- **Creating a Markdown Cell**: To create a markdown cell, first create a new cell as above, then use the keyboard shortcut `M` to change a cell to markdown. Type your text using Markdown syntax and press `Shift + Enter` to render it.\n",
        "\n",
        "### Adding Cells Above and Below\n",
        "- **Add Cell Below**: Click the \"+\" button in the toolbar or press `B`.\n",
        "- **Add Cell Above**: Press `A`.\n",
        "\n",
        "### What is Markdown?\n",
        "Markdown is a lightweight markup language that you can use to add formatting elements to plaintext text documents. Markdown is used to format text in Jupyter Notebooks.\n",
        "\n",
        "Here are some basic Markdown examples:\n",
        "- **Headings**: Create headings by starting a line with one (for H1), two (for H2), or more `#` characters, followed by a space.\n",
        "- **Bold and Italics**: Use `**` or `__` for **bold** text and `*` or `_` for *italic* text.\n",
        "- **Lists**: Create bullet lists using `*`, `+`, or `-`, followed by a space. Create numbered lists using numbers followed by a period.\n",
        "- **Links**: Create links using `[link text](URL)`."
      ]
    },
    {
      "cell_type": "markdown",
      "metadata": {
        "id": "gHZUdpFwK96q"
      },
      "source": [
        "This is **the** *link* **to** the [Intro on Colab video](https://www.youtube.com/watch?v=RLYoEyIHL6A) and this is the *link* to the [Python Tutorial](https://docs.python.org/3/tutorial/) that we have shared with you by email!"
      ]
    },
    {
      "cell_type": "markdown",
      "metadata": {
        "id": "I0jP4qvyhhAf"
      },
      "source": [
        "Example:\n",
        "# This is an H1 heading\n",
        "## This is an H2 heading\n",
        "\n",
        "**This text is bold**\n",
        "\n",
        "*This text is italic*\n",
        "- This is a list item\n",
        "1. This is a numbered list item\n",
        "\n",
        "[This is another link](https://pubmed.ncbi.nlm.nih.gov/)"
      ]
    },
    {
      "cell_type": "markdown",
      "metadata": {
        "id": "BeOMHDFrhjfL"
      },
      "source": [
        "<div class=\"alert alert-block alert-success\">\n",
        "<b>Exercise </b><p>\n",
        "Create a new markdown cell below this one. Try to create a H1 heading with a title of this course: \"Computational Neurology workshop\" <p>\n",
        "Then, write one word of your choice in bold and one in italic and write the Github link for the course.\n",
        "\n",
        "<p>\n",
        " -End of exercise-\n",
        "    </div>"
      ]
    },
    {
      "cell_type": "markdown",
      "source": [
        "# Computational Neurology workshop\n",
        "**test1**, _test3_\n",
        "[GitHub-Link](https://github.com/computational-neurology/workshop2025/blob/main/00_introduction_to_Python_prep_material.ipynb)"
      ],
      "metadata": {
        "id": "X1d1lPz6LOkB"
      }
    },
    {
      "cell_type": "markdown",
      "metadata": {
        "id": "pgqzFZbohls-"
      },
      "source": [
        "## Part 1: Basics of Python\n",
        "\n",
        "### Print Function\n",
        "The print function is used to display output in Python."
      ]
    },
    {
      "cell_type": "code",
      "execution_count": null,
      "metadata": {
        "id": "LeugaFnNhnE6"
      },
      "outputs": [],
      "source": [
        "print(\"How cool is Python?!?\")"
      ]
    },
    {
      "cell_type": "markdown",
      "metadata": {
        "id": "_9_dIN41hoaB"
      },
      "source": [
        "<div class=\"alert alert-block alert-success\">\n",
        "<b>Exercise </b><p>\n",
        "Your turn! First, create a code cell below this one, then use print() to display the name of your favorite brain region. If you don't have one, just print \"The whole brain!\" <p>\n",
        "\n",
        "<p>\n",
        " -End of exercise-\n",
        "    </div>"
      ]
    },
    {
      "cell_type": "code",
      "source": [
        "print(\"hippocampus\")"
      ],
      "metadata": {
        "id": "xNrZqWDmLzSA",
        "outputId": "00b1edb2-7ed7-4409-e2f1-843533a3beb1",
        "colab": {
          "base_uri": "https://localhost:8080/"
        }
      },
      "execution_count": 5,
      "outputs": [
        {
          "output_type": "stream",
          "name": "stdout",
          "text": [
            "hippocampus\n"
          ]
        }
      ]
    },
    {
      "cell_type": "markdown",
      "metadata": {
        "id": "KHK15LqmK96u"
      },
      "source": [
        "### Comments\n",
        "In code cells you can use comments. Comments are normal not-programming sentences you usually write for yourself/your users in order to document/explain things. To write a comment just type # followed by what you want to write. These comments will be disregarded by the machine."
      ]
    },
    {
      "cell_type": "code",
      "execution_count": null,
      "metadata": {
        "id": "cpW_EFm6K96u"
      },
      "outputs": [],
      "source": [
        "# this is a comment that the compiler will not care about, but you could write something useful like this!"
      ]
    },
    {
      "cell_type": "markdown",
      "metadata": {
        "id": "aCNGAnZaK96u"
      },
      "source": [
        "if you write the same in a code cell without # before, it will throw an error"
      ]
    },
    {
      "cell_type": "code",
      "execution_count": 7,
      "metadata": {
        "id": "3rWrHbV_K96v"
      },
      "outputs": [],
      "source": [
        "# this is a comment that will throw an error"
      ]
    },
    {
      "cell_type": "markdown",
      "metadata": {
        "id": "AYpcqGLPK96v"
      },
      "source": [
        "Comment the line above."
      ]
    },
    {
      "cell_type": "markdown",
      "metadata": {
        "id": "_mi2ntFUhpvO"
      },
      "source": [
        "### Variables\n",
        "Variables are used to store information. You can create a variable by simply assigning a value to a name."
      ]
    },
    {
      "cell_type": "code",
      "execution_count": null,
      "metadata": {
        "id": "iCan_9V8hq2g"
      },
      "outputs": [],
      "source": [
        "x = 5\n",
        "y = \"You are learning Python!\" # this is also a way to comment, after your code\n",
        "print(x)\n",
        "print(y)"
      ]
    },
    {
      "cell_type": "markdown",
      "metadata": {
        "id": "r8TrDG5thsHL"
      },
      "source": [
        "You can combine print and variables to print the value of the variable with f-strings."
      ]
    },
    {
      "cell_type": "code",
      "execution_count": null,
      "metadata": {
        "id": "vEE-I8Oxhubx"
      },
      "outputs": [],
      "source": [
        "print(f\"The value of the variable x is {x}\") # add an f before the \"\" and put your variable into {} to access its value"
      ]
    },
    {
      "cell_type": "markdown",
      "metadata": {
        "id": "yhKX_pFbhv4-"
      },
      "source": [
        "<div class=\"alert alert-block alert-success\">\n",
        "<b>Exercise </b><p>\n",
        "Create a code cell below this one, then create a variable called n_brain_regions and set its value equal to 90.\n",
        "After this, print the value of the variable (doing print(90) is not allowed ;) )<p>\n",
        "\n",
        "<p>\n",
        " -End of exercise-\n",
        "    </div>"
      ]
    },
    {
      "cell_type": "code",
      "source": [
        "n_brain_regions = 90\n",
        "print(n_brain_regions)"
      ],
      "metadata": {
        "id": "yGpREqlGL_W3",
        "outputId": "052e3643-0054-43dc-d316-265179a55dca",
        "colab": {
          "base_uri": "https://localhost:8080/"
        }
      },
      "execution_count": 8,
      "outputs": [
        {
          "output_type": "stream",
          "name": "stdout",
          "text": [
            "90\n"
          ]
        }
      ]
    },
    {
      "cell_type": "markdown",
      "metadata": {
        "id": "NjgyVyfKhxXr"
      },
      "source": [
        "### Data Types\n",
        "Python has various data types including integers, floats, strings, and booleans."
      ]
    },
    {
      "cell_type": "code",
      "execution_count": 2,
      "metadata": {
        "id": "TTs6CD7Bhyk6",
        "outputId": "162c357e-a553-497b-dbad-0298c0600dd0",
        "colab": {
          "base_uri": "https://localhost:8080/"
        }
      },
      "outputs": [
        {
          "output_type": "stream",
          "name": "stdout",
          "text": [
            "<class 'int'>\n",
            "<class 'float'>\n",
            "<class 'str'>\n",
            "<class 'bool'>\n"
          ]
        }
      ],
      "source": [
        "a = 5        # integer\n",
        "b = 20.5     # float\n",
        "c = \"Brain\"  # string\n",
        "d = False     # boolean, useful for if conditions for example: if something is True, then do some calculations...\n",
        "\n",
        "print(type(a))\n",
        "print(type(b))\n",
        "print(type(c))\n",
        "print(type(d))"
      ]
    },
    {
      "cell_type": "markdown",
      "metadata": {
        "id": "fi3MY8pmK96x"
      },
      "source": [
        "You can perform several types of operations here. We will see them later in greater detail.\n",
        "Try to guess what these will do before running them and then see if you were right!"
      ]
    },
    {
      "cell_type": "code",
      "execution_count": 3,
      "metadata": {
        "id": "NY-g5ABNK96y",
        "outputId": "dd3f8a4e-4700-4ae6-9e25-691bb18d9049",
        "colab": {
          "base_uri": "https://localhost:8080/"
        }
      },
      "outputs": [
        {
          "output_type": "stream",
          "name": "stdout",
          "text": [
            "30.5\n"
          ]
        }
      ],
      "source": [
        "x = a + b\n",
        "print(x + a)"
      ]
    },
    {
      "cell_type": "code",
      "execution_count": 9,
      "metadata": {
        "id": "d7NRB78MK96y",
        "outputId": "79f2f8b6-b040-4215-bb7d-c346f2df78ea",
        "colab": {
          "base_uri": "https://localhost:8080/"
        }
      },
      "outputs": [
        {
          "output_type": "stream",
          "name": "stdout",
          "text": [
            "Heart\n",
            "Heart\n",
            "Heart\n",
            "Heart\n",
            "Heart\n"
          ]
        }
      ],
      "source": [
        "for i in range(a):\n",
        "    if not d and x > 30:\n",
        "        print(c)\n",
        "    elif not d and x < 30:\n",
        "        print(\"Heart\")"
      ]
    },
    {
      "cell_type": "markdown",
      "metadata": {
        "id": "meL9KkUch2sz"
      },
      "source": [
        "## Part 2: Data Structures"
      ]
    },
    {
      "cell_type": "markdown",
      "metadata": {
        "id": "ehU_KAcgh3-f"
      },
      "source": [
        "### Lists\n",
        "Lists are ordered collections of items. They are mutable, which means you can change their content."
      ]
    },
    {
      "cell_type": "code",
      "execution_count": null,
      "metadata": {
        "id": "X4B-zhV-h5Ix"
      },
      "outputs": [],
      "source": [
        "# Creating a list\n",
        "my_list = [1, 2, 3, 4, 5]\n",
        "print(my_list)"
      ]
    },
    {
      "cell_type": "code",
      "execution_count": null,
      "metadata": {
        "id": "_PqQuV5vh6KW"
      },
      "outputs": [],
      "source": [
        "# Accessing elements. The elements' count starts from 0! So you go from 0 to n-1 elements for a n-sized list! This is important to remember!\n",
        "print(my_list[0])  # First element\n",
        "print(my_list[-1])  # Last element"
      ]
    },
    {
      "cell_type": "code",
      "execution_count": null,
      "metadata": {
        "id": "ih8CPLuth7KR"
      },
      "outputs": [],
      "source": [
        "# Add an element at the end of the list\n",
        "my_list.append(6)"
      ]
    },
    {
      "cell_type": "code",
      "execution_count": null,
      "metadata": {
        "id": "a5-6Xahoh8O0"
      },
      "outputs": [],
      "source": [
        "# Modifying elements\n",
        "my_list[0] = 10\n",
        "print(my_list)"
      ]
    },
    {
      "cell_type": "markdown",
      "metadata": {
        "id": "BDSrJFeFh9nR"
      },
      "source": [
        "<div class=\"alert alert-block alert-success\">\n",
        "<b>Exercise </b><p>\n",
        "Your turn! Write a list of three cities you have been to / would like to go to. Print the first city of the list using list[index].\n",
        "Then look on the internet/ask an LLM how to remove elements from a list and try it.\n",
        "<p>\n",
        "\n",
        "\n",
        "\n",
        "<p>\n",
        " -End of exercise-\n",
        "    </div>\n"
      ]
    },
    {
      "cell_type": "code",
      "execution_count": 11,
      "metadata": {
        "id": "ybtIDNhMh-tj",
        "outputId": "8a83af23-4d08-4846-b960-a177a3789d51",
        "colab": {
          "base_uri": "https://localhost:8080/"
        }
      },
      "outputs": [
        {
          "output_type": "stream",
          "name": "stdout",
          "text": [
            "Amsterdam\n",
            "['Paris', 'New York']\n"
          ]
        }
      ],
      "source": [
        "# Your code here, uncomment, write the code and run!\n",
        "cities = [\"Amsterdam\", \"Paris\", \"New York\"]\n",
        "print(cities[0])  # Print the first city\n",
        "cities.remove(\"Amsterdam\")  # Remove the first city"
      ]
    },
    {
      "cell_type": "markdown",
      "metadata": {
        "id": "zAzzBk6-iAOc"
      },
      "source": [
        "<div class=\"alert alert-block alert-success\">\n",
        "<b>Exercise Bonus </b><p>\n",
        "Use the same cities list that you created before and add another city to the same list. Then, print the whole list.\n",
        "<p>\n",
        "\n",
        "<p>\n",
        " -End of exercise-\n",
        "    </div>\n"
      ]
    },
    {
      "cell_type": "code",
      "execution_count": 12,
      "metadata": {
        "id": "IVHFUPn_iBlZ",
        "outputId": "ec886a3d-ab69-4d03-a846-1f0726f2800a",
        "colab": {
          "base_uri": "https://localhost:8080/"
        }
      },
      "outputs": [
        {
          "output_type": "stream",
          "name": "stdout",
          "text": [
            "['Paris', 'New York', 'Berlin']\n"
          ]
        }
      ],
      "source": [
        "cities.append(\"Berlin\")  # Adding a new city\n",
        "print(cities)  # Print the list"
      ]
    },
    {
      "cell_type": "markdown",
      "metadata": {
        "id": "_8-inScziCzU"
      },
      "source": [
        "### Tuples\n",
        "Tuples are ordered collections of items, but unlike lists, they are immutable."
      ]
    },
    {
      "cell_type": "code",
      "execution_count": null,
      "metadata": {
        "id": "Y-7Slo-jiDu6"
      },
      "outputs": [],
      "source": [
        "# Creating a tuple\n",
        "my_tuple = (1, 2, 3, 4, 5)\n",
        "print(my_tuple)\n",
        "\n",
        "# Accessing elements\n",
        "print(my_tuple[0])  # First element\n",
        "print(my_tuple[-1])  # Last element"
      ]
    },
    {
      "cell_type": "markdown",
      "metadata": {
        "id": "NOdITjsyiE3l"
      },
      "source": [
        "Since they are immutable, you can't assign a new value to the tuple using indexing and this will lead to an error."
      ]
    },
    {
      "cell_type": "code",
      "execution_count": null,
      "metadata": {
        "id": "ljVFTCV0iGKj"
      },
      "outputs": [],
      "source": [
        "# Uncomment and run to see the error\n",
        "# my_tuple[0] = 2"
      ]
    },
    {
      "cell_type": "markdown",
      "metadata": {
        "id": "B4HojJ0biH1v"
      },
      "source": [
        "### Dictionaries\n",
        "Dictionaries are unordered collections of key-value pairs. Keys are unique and immutable."
      ]
    },
    {
      "cell_type": "code",
      "execution_count": null,
      "metadata": {
        "id": "yHkRwI-PiI1_"
      },
      "outputs": [],
      "source": [
        "# Creating a dictionary\n",
        "my_dict = {\"name\": \"Alice\", \"age\": 25, \"subject\": \"Neuroscience\"}\n",
        "print(my_dict)"
      ]
    },
    {
      "cell_type": "code",
      "execution_count": null,
      "metadata": {
        "id": "M-xMVgWciJs-"
      },
      "outputs": [],
      "source": [
        "# Accessing values\n",
        "print(my_dict[\"name\"])  # Value associated with key 'name'"
      ]
    },
    {
      "cell_type": "code",
      "execution_count": null,
      "metadata": {
        "id": "B3CeqGgciLC9"
      },
      "outputs": [],
      "source": [
        "# Modifying values\n",
        "my_dict[\"age\"] = 26\n",
        "print(my_dict)"
      ]
    },
    {
      "cell_type": "markdown",
      "metadata": {
        "id": "twORF7ejiMO-"
      },
      "source": [
        "<div class=\"alert alert-block alert-success\">\n",
        "<b>Exercise </b><p>\n",
        "Use the following code cell to create a dictionary containing the keys: title, author and an example for a book you like.\n",
        "<p>\n",
        "\n",
        "<p>\n",
        " -End of exercise-\n",
        "    </div>"
      ]
    },
    {
      "cell_type": "code",
      "execution_count": 15,
      "metadata": {
        "id": "vCDaOWNUiNW0",
        "outputId": "9149d045-b868-454b-85c8-6b27479175d7",
        "colab": {
          "base_uri": "https://localhost:8080/"
        }
      },
      "outputs": [
        {
          "output_type": "stream",
          "name": "stdout",
          "text": [
            "Bobs Reise\n",
            "Bob\n",
            "{'title': 'Bobs Reise', 'author': 'Bob', 'genre': 'adventure'}\n",
            "dict_keys(['title', 'author', 'genre'])\n",
            "dict_values(['Bobs Reise', 'Bob', 'adventure'])\n"
          ]
        }
      ],
      "source": [
        "## Remember dict = {key: value}\n",
        "## Uncomment the following, create your dictionary and run\n",
        "\n",
        "dict_book = {\"title\": \"Bobs Reise\", \"author\": \"Bob\", \"genre\" : \"adventure\"}\n",
        "print(dict_book[\"title\"])  # Print the title of the book\n",
        "print(dict_book[\"author\"])  # Print the Author of the book\n",
        "print(dict_book)  # Print the entire dictionary\n",
        "print(dict_book.keys())  # Print the keys of the dict\n",
        "print(dict_book.values())  # Print the values of the dict"
      ]
    },
    {
      "cell_type": "markdown",
      "metadata": {
        "id": "aCx5xfj-K97F"
      },
      "source": [
        "Now look up how to get the the keys and values or both from your dictionary. Why do you think these commands could be useful?"
      ]
    }
  ],
  "metadata": {
    "colab": {
      "provenance": [],
      "include_colab_link": true
    },
    "kernelspec": {
      "display_name": "Python 3",
      "name": "python3"
    },
    "language_info": {
      "codemirror_mode": {
        "name": "ipython",
        "version": 3
      },
      "file_extension": ".py",
      "mimetype": "text/x-python",
      "name": "python",
      "nbconvert_exporter": "python",
      "pygments_lexer": "ipython3",
      "version": "3.11.0"
    }
  },
  "nbformat": 4,
  "nbformat_minor": 0
}